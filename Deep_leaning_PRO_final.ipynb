{
  "nbformat": 4,
  "nbformat_minor": 0,
  "metadata": {
    "colab": {
      "provenance": [],
      "collapsed_sections": [
        "QATkosC2ByY-",
        "jo65ArY45rhl",
        "c0s-OhMbM_a_",
        "8YubZnn398XN",
        "rJjM8UytK3v0",
        "sLkTCikttbtV",
        "wdY8cixEQVTc",
        "QoI6jOCr9XJT",
        "AwUAaJ374MnB",
        "bEXEkv91-sCR",
        "UxiRMqYS-vWw",
        "iUqNWTUEUPhl"
      ],
      "toc_visible": true,
      "authorship_tag": "ABX9TyNc+Xuvb3MPotsPFoAjfcbS",
      "include_colab_link": true
    },
    "kernelspec": {
      "name": "python3",
      "display_name": "Python 3"
    },
    "language_info": {
      "name": "python"
    },
    "accelerator": "TPU",
    "gpuClass": "standard"
  },
  "cells": [
    {
      "cell_type": "markdown",
      "metadata": {
        "id": "view-in-github",
        "colab_type": "text"
      },
      "source": [
        "<a href=\"https://colab.research.google.com/github/kiradawa/Stocks-prediction/blob/main/Deep_leaning_PRO_final.ipynb\" target=\"_parent\"><img src=\"https://colab.research.google.com/assets/colab-badge.svg\" alt=\"Open In Colab\"/></a>"
      ]
    },
    {
      "cell_type": "markdown",
      "source": [
        "#Mahmood Yaghi\n",
        "#202011134"
      ],
      "metadata": {
        "id": "QATkosC2ByY-"
      }
    },
    {
      "cell_type": "markdown",
      "source": [
        "#Stock Price prediction\n",
        "I'm going to make a Dense NN model and use the same data used by user SIDDHARTH YADAV His account https://www.kaggle.com/thebrownviking20 and I'm going to compare my work with him and see the results. His work: https://www.kaggle.com/code/thebrownviking20/intro-to-recurrent-neural-networks-lstm-gru"
      ],
      "metadata": {
        "id": "jo65ArY45rhl"
      }
    },
    {
      "cell_type": "code",
      "source": [
        "!pip install yfinance"
      ],
      "metadata": {
        "colab": {
          "base_uri": "https://localhost:8080/"
        },
        "id": "ZH1P7WDn37g2",
        "outputId": "35fb500b-96cc-42a2-f19b-e6f281ac9a10"
      },
      "execution_count": null,
      "outputs": [
        {
          "output_type": "stream",
          "name": "stdout",
          "text": [
            "Looking in indexes: https://pypi.org/simple, https://us-python.pkg.dev/colab-wheels/public/simple/\n",
            "Collecting yfinance\n",
            "  Downloading yfinance-0.1.87-py2.py3-none-any.whl (29 kB)\n",
            "Collecting requests>=2.26\n",
            "  Downloading requests-2.28.1-py3-none-any.whl (62 kB)\n",
            "\u001b[K     |████████████████████████████████| 62 kB 622 kB/s \n",
            "\u001b[?25hRequirement already satisfied: numpy>=1.15 in /usr/local/lib/python3.8/dist-packages (from yfinance) (1.21.6)\n",
            "Requirement already satisfied: multitasking>=0.0.7 in /usr/local/lib/python3.8/dist-packages (from yfinance) (0.0.11)\n",
            "Requirement already satisfied: pandas>=0.24.0 in /usr/local/lib/python3.8/dist-packages (from yfinance) (1.3.5)\n",
            "Requirement already satisfied: lxml>=4.5.1 in /usr/local/lib/python3.8/dist-packages (from yfinance) (4.9.1)\n",
            "Requirement already satisfied: appdirs>=1.4.4 in /usr/local/lib/python3.8/dist-packages (from yfinance) (1.4.4)\n",
            "Requirement already satisfied: pytz>=2017.3 in /usr/local/lib/python3.8/dist-packages (from pandas>=0.24.0->yfinance) (2022.6)\n",
            "Requirement already satisfied: python-dateutil>=2.7.3 in /usr/local/lib/python3.8/dist-packages (from pandas>=0.24.0->yfinance) (2.8.2)\n",
            "Requirement already satisfied: six>=1.5 in /usr/local/lib/python3.8/dist-packages (from python-dateutil>=2.7.3->pandas>=0.24.0->yfinance) (1.15.0)\n",
            "Requirement already satisfied: certifi>=2017.4.17 in /usr/local/lib/python3.8/dist-packages (from requests>=2.26->yfinance) (2022.9.24)\n",
            "Requirement already satisfied: urllib3<1.27,>=1.21.1 in /usr/local/lib/python3.8/dist-packages (from requests>=2.26->yfinance) (1.24.3)\n",
            "Requirement already satisfied: idna<4,>=2.5 in /usr/local/lib/python3.8/dist-packages (from requests>=2.26->yfinance) (2.10)\n",
            "Requirement already satisfied: charset-normalizer<3,>=2 in /usr/local/lib/python3.8/dist-packages (from requests>=2.26->yfinance) (2.1.1)\n",
            "Installing collected packages: requests, yfinance\n",
            "  Attempting uninstall: requests\n",
            "    Found existing installation: requests 2.23.0\n",
            "    Uninstalling requests-2.23.0:\n",
            "      Successfully uninstalled requests-2.23.0\n",
            "Successfully installed requests-2.28.1 yfinance-0.1.87\n"
          ]
        }
      ]
    },
    {
      "cell_type": "code",
      "execution_count": null,
      "metadata": {
        "id": "FxqbeieZ1PYe"
      },
      "outputs": [],
      "source": [
        "import pandas as pd\n",
        "import tensorflow as tf\n",
        "import matplotlib.pyplot as plt\n",
        "from keras.models import Sequential, Model\n",
        "from keras.layers import  Dense\n",
        "from sklearn.preprocessing import MinMaxScaler\n",
        "import numpy as np\n",
        "from keras.callbacks import EarlyStopping\n",
        "from sklearn.metrics import mean_squared_error\n",
        "import math"
      ]
    },
    {
      "cell_type": "code",
      "source": [
        "from google.colab import drive\n",
        "drive.mount('/content/gdrive')"
      ],
      "metadata": {
        "colab": {
          "base_uri": "https://localhost:8080/"
        },
        "id": "zuWzglfSJKJt",
        "outputId": "63fc33c6-0d26-46ce-9c86-7a6e4d045980"
      },
      "execution_count": null,
      "outputs": [
        {
          "output_type": "stream",
          "name": "stdout",
          "text": [
            "Mounted at /content/gdrive\n"
          ]
        }
      ]
    },
    {
      "cell_type": "markdown",
      "source": [
        "#data preparation"
      ],
      "metadata": {
        "id": "c0s-OhMbM_a_"
      }
    },
    {
      "cell_type": "markdown",
      "source": [
        "Extract data"
      ],
      "metadata": {
        "id": "p0z5EToKK3mF"
      }
    },
    {
      "cell_type": "code",
      "source": [
        "data = pd.read_csv(\"/content/gdrive/MyDrive/Colab Notebooks/Deep learning project/IBM_2006-01-01_to_2018-01-01.csv\", index_col='Date', parse_dates=['Date'])\n",
        "data"
      ],
      "metadata": {
        "colab": {
          "base_uri": "https://localhost:8080/",
          "height": 455
        },
        "id": "gzrgoJfpHQ2d",
        "outputId": "47658252-2ac8-44bd-f935-78d82f653102"
      },
      "execution_count": null,
      "outputs": [
        {
          "output_type": "execute_result",
          "data": {
            "text/plain": [
              "              Open    High     Low   Close    Volume Name\n",
              "Date                                                     \n",
              "2006-01-03   82.45   82.55   80.81   82.06  11715200  IBM\n",
              "2006-01-04   82.20   82.50   81.33   81.95   9840600  IBM\n",
              "2006-01-05   81.40   82.90   81.00   82.50   7213500  IBM\n",
              "2006-01-06   83.95   85.03   83.41   84.95   8197400  IBM\n",
              "2006-01-09   84.10   84.25   83.38   83.73   6858200  IBM\n",
              "...            ...     ...     ...     ...       ...  ...\n",
              "2017-12-22  151.82  153.00  151.50  152.50   2990583  IBM\n",
              "2017-12-26  152.51  153.86  152.50  152.83   2479017  IBM\n",
              "2017-12-27  152.95  153.18  152.61  153.13   2149257  IBM\n",
              "2017-12-28  153.20  154.12  153.20  154.04   2687624  IBM\n",
              "2017-12-29  154.17  154.72  153.42  153.42   3327087  IBM\n",
              "\n",
              "[3020 rows x 6 columns]"
            ],
            "text/html": [
              "\n",
              "  <div id=\"df-be4de436-6a6e-4561-80ed-72521d548807\">\n",
              "    <div class=\"colab-df-container\">\n",
              "      <div>\n",
              "<style scoped>\n",
              "    .dataframe tbody tr th:only-of-type {\n",
              "        vertical-align: middle;\n",
              "    }\n",
              "\n",
              "    .dataframe tbody tr th {\n",
              "        vertical-align: top;\n",
              "    }\n",
              "\n",
              "    .dataframe thead th {\n",
              "        text-align: right;\n",
              "    }\n",
              "</style>\n",
              "<table border=\"1\" class=\"dataframe\">\n",
              "  <thead>\n",
              "    <tr style=\"text-align: right;\">\n",
              "      <th></th>\n",
              "      <th>Open</th>\n",
              "      <th>High</th>\n",
              "      <th>Low</th>\n",
              "      <th>Close</th>\n",
              "      <th>Volume</th>\n",
              "      <th>Name</th>\n",
              "    </tr>\n",
              "    <tr>\n",
              "      <th>Date</th>\n",
              "      <th></th>\n",
              "      <th></th>\n",
              "      <th></th>\n",
              "      <th></th>\n",
              "      <th></th>\n",
              "      <th></th>\n",
              "    </tr>\n",
              "  </thead>\n",
              "  <tbody>\n",
              "    <tr>\n",
              "      <th>2006-01-03</th>\n",
              "      <td>82.45</td>\n",
              "      <td>82.55</td>\n",
              "      <td>80.81</td>\n",
              "      <td>82.06</td>\n",
              "      <td>11715200</td>\n",
              "      <td>IBM</td>\n",
              "    </tr>\n",
              "    <tr>\n",
              "      <th>2006-01-04</th>\n",
              "      <td>82.20</td>\n",
              "      <td>82.50</td>\n",
              "      <td>81.33</td>\n",
              "      <td>81.95</td>\n",
              "      <td>9840600</td>\n",
              "      <td>IBM</td>\n",
              "    </tr>\n",
              "    <tr>\n",
              "      <th>2006-01-05</th>\n",
              "      <td>81.40</td>\n",
              "      <td>82.90</td>\n",
              "      <td>81.00</td>\n",
              "      <td>82.50</td>\n",
              "      <td>7213500</td>\n",
              "      <td>IBM</td>\n",
              "    </tr>\n",
              "    <tr>\n",
              "      <th>2006-01-06</th>\n",
              "      <td>83.95</td>\n",
              "      <td>85.03</td>\n",
              "      <td>83.41</td>\n",
              "      <td>84.95</td>\n",
              "      <td>8197400</td>\n",
              "      <td>IBM</td>\n",
              "    </tr>\n",
              "    <tr>\n",
              "      <th>2006-01-09</th>\n",
              "      <td>84.10</td>\n",
              "      <td>84.25</td>\n",
              "      <td>83.38</td>\n",
              "      <td>83.73</td>\n",
              "      <td>6858200</td>\n",
              "      <td>IBM</td>\n",
              "    </tr>\n",
              "    <tr>\n",
              "      <th>...</th>\n",
              "      <td>...</td>\n",
              "      <td>...</td>\n",
              "      <td>...</td>\n",
              "      <td>...</td>\n",
              "      <td>...</td>\n",
              "      <td>...</td>\n",
              "    </tr>\n",
              "    <tr>\n",
              "      <th>2017-12-22</th>\n",
              "      <td>151.82</td>\n",
              "      <td>153.00</td>\n",
              "      <td>151.50</td>\n",
              "      <td>152.50</td>\n",
              "      <td>2990583</td>\n",
              "      <td>IBM</td>\n",
              "    </tr>\n",
              "    <tr>\n",
              "      <th>2017-12-26</th>\n",
              "      <td>152.51</td>\n",
              "      <td>153.86</td>\n",
              "      <td>152.50</td>\n",
              "      <td>152.83</td>\n",
              "      <td>2479017</td>\n",
              "      <td>IBM</td>\n",
              "    </tr>\n",
              "    <tr>\n",
              "      <th>2017-12-27</th>\n",
              "      <td>152.95</td>\n",
              "      <td>153.18</td>\n",
              "      <td>152.61</td>\n",
              "      <td>153.13</td>\n",
              "      <td>2149257</td>\n",
              "      <td>IBM</td>\n",
              "    </tr>\n",
              "    <tr>\n",
              "      <th>2017-12-28</th>\n",
              "      <td>153.20</td>\n",
              "      <td>154.12</td>\n",
              "      <td>153.20</td>\n",
              "      <td>154.04</td>\n",
              "      <td>2687624</td>\n",
              "      <td>IBM</td>\n",
              "    </tr>\n",
              "    <tr>\n",
              "      <th>2017-12-29</th>\n",
              "      <td>154.17</td>\n",
              "      <td>154.72</td>\n",
              "      <td>153.42</td>\n",
              "      <td>153.42</td>\n",
              "      <td>3327087</td>\n",
              "      <td>IBM</td>\n",
              "    </tr>\n",
              "  </tbody>\n",
              "</table>\n",
              "<p>3020 rows × 6 columns</p>\n",
              "</div>\n",
              "      <button class=\"colab-df-convert\" onclick=\"convertToInteractive('df-be4de436-6a6e-4561-80ed-72521d548807')\"\n",
              "              title=\"Convert this dataframe to an interactive table.\"\n",
              "              style=\"display:none;\">\n",
              "        \n",
              "  <svg xmlns=\"http://www.w3.org/2000/svg\" height=\"24px\"viewBox=\"0 0 24 24\"\n",
              "       width=\"24px\">\n",
              "    <path d=\"M0 0h24v24H0V0z\" fill=\"none\"/>\n",
              "    <path d=\"M18.56 5.44l.94 2.06.94-2.06 2.06-.94-2.06-.94-.94-2.06-.94 2.06-2.06.94zm-11 1L8.5 8.5l.94-2.06 2.06-.94-2.06-.94L8.5 2.5l-.94 2.06-2.06.94zm10 10l.94 2.06.94-2.06 2.06-.94-2.06-.94-.94-2.06-.94 2.06-2.06.94z\"/><path d=\"M17.41 7.96l-1.37-1.37c-.4-.4-.92-.59-1.43-.59-.52 0-1.04.2-1.43.59L10.3 9.45l-7.72 7.72c-.78.78-.78 2.05 0 2.83L4 21.41c.39.39.9.59 1.41.59.51 0 1.02-.2 1.41-.59l7.78-7.78 2.81-2.81c.8-.78.8-2.07 0-2.86zM5.41 20L4 18.59l7.72-7.72 1.47 1.35L5.41 20z\"/>\n",
              "  </svg>\n",
              "      </button>\n",
              "      \n",
              "  <style>\n",
              "    .colab-df-container {\n",
              "      display:flex;\n",
              "      flex-wrap:wrap;\n",
              "      gap: 12px;\n",
              "    }\n",
              "\n",
              "    .colab-df-convert {\n",
              "      background-color: #E8F0FE;\n",
              "      border: none;\n",
              "      border-radius: 50%;\n",
              "      cursor: pointer;\n",
              "      display: none;\n",
              "      fill: #1967D2;\n",
              "      height: 32px;\n",
              "      padding: 0 0 0 0;\n",
              "      width: 32px;\n",
              "    }\n",
              "\n",
              "    .colab-df-convert:hover {\n",
              "      background-color: #E2EBFA;\n",
              "      box-shadow: 0px 1px 2px rgba(60, 64, 67, 0.3), 0px 1px 3px 1px rgba(60, 64, 67, 0.15);\n",
              "      fill: #174EA6;\n",
              "    }\n",
              "\n",
              "    [theme=dark] .colab-df-convert {\n",
              "      background-color: #3B4455;\n",
              "      fill: #D2E3FC;\n",
              "    }\n",
              "\n",
              "    [theme=dark] .colab-df-convert:hover {\n",
              "      background-color: #434B5C;\n",
              "      box-shadow: 0px 1px 3px 1px rgba(0, 0, 0, 0.15);\n",
              "      filter: drop-shadow(0px 1px 2px rgba(0, 0, 0, 0.3));\n",
              "      fill: #FFFFFF;\n",
              "    }\n",
              "  </style>\n",
              "\n",
              "      <script>\n",
              "        const buttonEl =\n",
              "          document.querySelector('#df-be4de436-6a6e-4561-80ed-72521d548807 button.colab-df-convert');\n",
              "        buttonEl.style.display =\n",
              "          google.colab.kernel.accessAllowed ? 'block' : 'none';\n",
              "\n",
              "        async function convertToInteractive(key) {\n",
              "          const element = document.querySelector('#df-be4de436-6a6e-4561-80ed-72521d548807');\n",
              "          const dataTable =\n",
              "            await google.colab.kernel.invokeFunction('convertToInteractive',\n",
              "                                                     [key], {});\n",
              "          if (!dataTable) return;\n",
              "\n",
              "          const docLinkHtml = 'Like what you see? Visit the ' +\n",
              "            '<a target=\"_blank\" href=https://colab.research.google.com/notebooks/data_table.ipynb>data table notebook</a>'\n",
              "            + ' to learn more about interactive tables.';\n",
              "          element.innerHTML = '';\n",
              "          dataTable['output_type'] = 'display_data';\n",
              "          await google.colab.output.renderOutput(dataTable, element);\n",
              "          const docLink = document.createElement('div');\n",
              "          docLink.innerHTML = docLinkHtml;\n",
              "          element.appendChild(docLink);\n",
              "        }\n",
              "      </script>\n",
              "    </div>\n",
              "  </div>\n",
              "  "
            ]
          },
          "metadata": {},
          "execution_count": 4
        }
      ]
    },
    {
      "cell_type": "markdown",
      "source": [
        "Understanding the data"
      ],
      "metadata": {
        "id": "DgG7pbqtK8dn"
      }
    },
    {
      "cell_type": "code",
      "source": [
        "data.describe()"
      ],
      "metadata": {
        "colab": {
          "base_uri": "https://localhost:8080/",
          "height": 300
        },
        "id": "_mlvSPHVKFbe",
        "outputId": "8a2d72de-70dd-47b9-dd0d-51a5dfe36e80"
      },
      "execution_count": null,
      "outputs": [
        {
          "output_type": "execute_result",
          "data": {
            "text/plain": [
              "              Open         High          Low        Close        Volume\n",
              "count  3019.000000  3020.000000  3019.000000  3020.000000  3.020000e+03\n",
              "mean    145.515545   146.681738   144.471597   145.617278  5.773301e+06\n",
              "std      37.554946    37.613446    37.477641    37.529387  3.192831e+06\n",
              "min      72.740000    73.940000    69.500000    71.740000  2.542560e+05\n",
              "25%     116.405000   117.765000   115.490000   116.525000  3.622681e+06\n",
              "50%     149.610000   150.330000   148.470000   149.315000  4.928852e+06\n",
              "75%     178.445000   179.762500   177.330000   178.685000  6.965014e+06\n",
              "max     215.380000   215.900000   214.300000   215.800000  3.077428e+07"
            ],
            "text/html": [
              "\n",
              "  <div id=\"df-9742a294-9b16-40a1-9985-5e92e674a1c5\">\n",
              "    <div class=\"colab-df-container\">\n",
              "      <div>\n",
              "<style scoped>\n",
              "    .dataframe tbody tr th:only-of-type {\n",
              "        vertical-align: middle;\n",
              "    }\n",
              "\n",
              "    .dataframe tbody tr th {\n",
              "        vertical-align: top;\n",
              "    }\n",
              "\n",
              "    .dataframe thead th {\n",
              "        text-align: right;\n",
              "    }\n",
              "</style>\n",
              "<table border=\"1\" class=\"dataframe\">\n",
              "  <thead>\n",
              "    <tr style=\"text-align: right;\">\n",
              "      <th></th>\n",
              "      <th>Open</th>\n",
              "      <th>High</th>\n",
              "      <th>Low</th>\n",
              "      <th>Close</th>\n",
              "      <th>Volume</th>\n",
              "    </tr>\n",
              "  </thead>\n",
              "  <tbody>\n",
              "    <tr>\n",
              "      <th>count</th>\n",
              "      <td>3019.000000</td>\n",
              "      <td>3020.000000</td>\n",
              "      <td>3019.000000</td>\n",
              "      <td>3020.000000</td>\n",
              "      <td>3.020000e+03</td>\n",
              "    </tr>\n",
              "    <tr>\n",
              "      <th>mean</th>\n",
              "      <td>145.515545</td>\n",
              "      <td>146.681738</td>\n",
              "      <td>144.471597</td>\n",
              "      <td>145.617278</td>\n",
              "      <td>5.773301e+06</td>\n",
              "    </tr>\n",
              "    <tr>\n",
              "      <th>std</th>\n",
              "      <td>37.554946</td>\n",
              "      <td>37.613446</td>\n",
              "      <td>37.477641</td>\n",
              "      <td>37.529387</td>\n",
              "      <td>3.192831e+06</td>\n",
              "    </tr>\n",
              "    <tr>\n",
              "      <th>min</th>\n",
              "      <td>72.740000</td>\n",
              "      <td>73.940000</td>\n",
              "      <td>69.500000</td>\n",
              "      <td>71.740000</td>\n",
              "      <td>2.542560e+05</td>\n",
              "    </tr>\n",
              "    <tr>\n",
              "      <th>25%</th>\n",
              "      <td>116.405000</td>\n",
              "      <td>117.765000</td>\n",
              "      <td>115.490000</td>\n",
              "      <td>116.525000</td>\n",
              "      <td>3.622681e+06</td>\n",
              "    </tr>\n",
              "    <tr>\n",
              "      <th>50%</th>\n",
              "      <td>149.610000</td>\n",
              "      <td>150.330000</td>\n",
              "      <td>148.470000</td>\n",
              "      <td>149.315000</td>\n",
              "      <td>4.928852e+06</td>\n",
              "    </tr>\n",
              "    <tr>\n",
              "      <th>75%</th>\n",
              "      <td>178.445000</td>\n",
              "      <td>179.762500</td>\n",
              "      <td>177.330000</td>\n",
              "      <td>178.685000</td>\n",
              "      <td>6.965014e+06</td>\n",
              "    </tr>\n",
              "    <tr>\n",
              "      <th>max</th>\n",
              "      <td>215.380000</td>\n",
              "      <td>215.900000</td>\n",
              "      <td>214.300000</td>\n",
              "      <td>215.800000</td>\n",
              "      <td>3.077428e+07</td>\n",
              "    </tr>\n",
              "  </tbody>\n",
              "</table>\n",
              "</div>\n",
              "      <button class=\"colab-df-convert\" onclick=\"convertToInteractive('df-9742a294-9b16-40a1-9985-5e92e674a1c5')\"\n",
              "              title=\"Convert this dataframe to an interactive table.\"\n",
              "              style=\"display:none;\">\n",
              "        \n",
              "  <svg xmlns=\"http://www.w3.org/2000/svg\" height=\"24px\"viewBox=\"0 0 24 24\"\n",
              "       width=\"24px\">\n",
              "    <path d=\"M0 0h24v24H0V0z\" fill=\"none\"/>\n",
              "    <path d=\"M18.56 5.44l.94 2.06.94-2.06 2.06-.94-2.06-.94-.94-2.06-.94 2.06-2.06.94zm-11 1L8.5 8.5l.94-2.06 2.06-.94-2.06-.94L8.5 2.5l-.94 2.06-2.06.94zm10 10l.94 2.06.94-2.06 2.06-.94-2.06-.94-.94-2.06-.94 2.06-2.06.94z\"/><path d=\"M17.41 7.96l-1.37-1.37c-.4-.4-.92-.59-1.43-.59-.52 0-1.04.2-1.43.59L10.3 9.45l-7.72 7.72c-.78.78-.78 2.05 0 2.83L4 21.41c.39.39.9.59 1.41.59.51 0 1.02-.2 1.41-.59l7.78-7.78 2.81-2.81c.8-.78.8-2.07 0-2.86zM5.41 20L4 18.59l7.72-7.72 1.47 1.35L5.41 20z\"/>\n",
              "  </svg>\n",
              "      </button>\n",
              "      \n",
              "  <style>\n",
              "    .colab-df-container {\n",
              "      display:flex;\n",
              "      flex-wrap:wrap;\n",
              "      gap: 12px;\n",
              "    }\n",
              "\n",
              "    .colab-df-convert {\n",
              "      background-color: #E8F0FE;\n",
              "      border: none;\n",
              "      border-radius: 50%;\n",
              "      cursor: pointer;\n",
              "      display: none;\n",
              "      fill: #1967D2;\n",
              "      height: 32px;\n",
              "      padding: 0 0 0 0;\n",
              "      width: 32px;\n",
              "    }\n",
              "\n",
              "    .colab-df-convert:hover {\n",
              "      background-color: #E2EBFA;\n",
              "      box-shadow: 0px 1px 2px rgba(60, 64, 67, 0.3), 0px 1px 3px 1px rgba(60, 64, 67, 0.15);\n",
              "      fill: #174EA6;\n",
              "    }\n",
              "\n",
              "    [theme=dark] .colab-df-convert {\n",
              "      background-color: #3B4455;\n",
              "      fill: #D2E3FC;\n",
              "    }\n",
              "\n",
              "    [theme=dark] .colab-df-convert:hover {\n",
              "      background-color: #434B5C;\n",
              "      box-shadow: 0px 1px 3px 1px rgba(0, 0, 0, 0.15);\n",
              "      filter: drop-shadow(0px 1px 2px rgba(0, 0, 0, 0.3));\n",
              "      fill: #FFFFFF;\n",
              "    }\n",
              "  </style>\n",
              "\n",
              "      <script>\n",
              "        const buttonEl =\n",
              "          document.querySelector('#df-9742a294-9b16-40a1-9985-5e92e674a1c5 button.colab-df-convert');\n",
              "        buttonEl.style.display =\n",
              "          google.colab.kernel.accessAllowed ? 'block' : 'none';\n",
              "\n",
              "        async function convertToInteractive(key) {\n",
              "          const element = document.querySelector('#df-9742a294-9b16-40a1-9985-5e92e674a1c5');\n",
              "          const dataTable =\n",
              "            await google.colab.kernel.invokeFunction('convertToInteractive',\n",
              "                                                     [key], {});\n",
              "          if (!dataTable) return;\n",
              "\n",
              "          const docLinkHtml = 'Like what you see? Visit the ' +\n",
              "            '<a target=\"_blank\" href=https://colab.research.google.com/notebooks/data_table.ipynb>data table notebook</a>'\n",
              "            + ' to learn more about interactive tables.';\n",
              "          element.innerHTML = '';\n",
              "          dataTable['output_type'] = 'display_data';\n",
              "          await google.colab.output.renderOutput(dataTable, element);\n",
              "          const docLink = document.createElement('div');\n",
              "          docLink.innerHTML = docLinkHtml;\n",
              "          element.appendChild(docLink);\n",
              "        }\n",
              "      </script>\n",
              "    </div>\n",
              "  </div>\n",
              "  "
            ]
          },
          "metadata": {},
          "execution_count": 5
        }
      ]
    },
    {
      "cell_type": "code",
      "source": [
        "data.info()"
      ],
      "metadata": {
        "colab": {
          "base_uri": "https://localhost:8080/"
        },
        "id": "mtPCLClqJusZ",
        "outputId": "ab09a749-b201-4841-e184-4bd5c2082aa6"
      },
      "execution_count": null,
      "outputs": [
        {
          "output_type": "stream",
          "name": "stdout",
          "text": [
            "<class 'pandas.core.frame.DataFrame'>\n",
            "DatetimeIndex: 3020 entries, 2006-01-03 to 2017-12-29\n",
            "Data columns (total 6 columns):\n",
            " #   Column  Non-Null Count  Dtype  \n",
            "---  ------  --------------  -----  \n",
            " 0   Open    3019 non-null   float64\n",
            " 1   High    3020 non-null   float64\n",
            " 2   Low     3019 non-null   float64\n",
            " 3   Close   3020 non-null   float64\n",
            " 4   Volume  3020 non-null   int64  \n",
            " 5   Name    3020 non-null   object \n",
            "dtypes: float64(4), int64(1), object(1)\n",
            "memory usage: 165.2+ KB\n"
          ]
        }
      ]
    },
    {
      "cell_type": "markdown",
      "source": [
        "Both Open and Low columns have missing values "
      ],
      "metadata": {
        "id": "O3nSC6SFNR4w"
      }
    },
    {
      "cell_type": "code",
      "source": [
        "data.isnull().sum()"
      ],
      "metadata": {
        "colab": {
          "base_uri": "https://localhost:8080/"
        },
        "id": "PacUTEm5LUUP",
        "outputId": "1980ea10-c8da-4f5d-99d8-a29a3e7560b4"
      },
      "execution_count": null,
      "outputs": [
        {
          "output_type": "execute_result",
          "data": {
            "text/plain": [
              "Open      1\n",
              "High      0\n",
              "Low       1\n",
              "Close     0\n",
              "Volume    0\n",
              "Name      0\n",
              "dtype: int64"
            ]
          },
          "metadata": {},
          "execution_count": 7
        }
      ]
    },
    {
      "cell_type": "markdown",
      "source": [
        "But since we only need High so we'll ignore it."
      ],
      "metadata": {
        "id": "aYAHf64aNb4P"
      }
    },
    {
      "cell_type": "markdown",
      "source": [
        "The max High stock price each year"
      ],
      "metadata": {
        "id": "lDad93vqQrk-"
      }
    },
    {
      "cell_type": "code",
      "source": [
        "for i in range(2006,2018):\n",
        "  result=data[\"High\"][str(i)].max()\n",
        "  print('the max High value for',i,':',result)"
      ],
      "metadata": {
        "colab": {
          "base_uri": "https://localhost:8080/"
        },
        "id": "7Mdlp2rbKoOB",
        "outputId": "dd36e8e8-522c-4bf7-ad81-6bd88a1ec564"
      },
      "execution_count": null,
      "outputs": [
        {
          "output_type": "stream",
          "name": "stdout",
          "text": [
            "the max High value for 2006 : 97.88\n",
            "the max High value for 2007 : 121.46\n",
            "the max High value for 2008 : 130.93\n",
            "the max High value for 2009 : 132.85\n",
            "the max High value for 2010 : 147.53\n",
            "the max High value for 2011 : 194.9\n",
            "the max High value for 2012 : 211.79\n",
            "the max High value for 2013 : 215.9\n",
            "the max High value for 2014 : 199.21\n",
            "the max High value for 2015 : 176.3\n",
            "the max High value for 2016 : 169.95\n",
            "the max High value for 2017 : 182.79\n"
          ]
        }
      ]
    },
    {
      "cell_type": "markdown",
      "source": [
        "we are going to be training the data from 2006 till the end of 2016 and the testing is going to be the entire year of 2017"
      ],
      "metadata": {
        "id": "ozsTVl5nUjsQ"
      }
    },
    {
      "cell_type": "code",
      "source": [
        "data[\"High\"][:'2016'].plot(figsize=(16,4),legend=True)\n",
        "data[\"High\"]['2017':].plot(figsize=(16,4),legend=True,color='red')\n",
        "plt.legend(['Training set (2006-2016)','Test set (2017)'])\n",
        "plt.title('IBM stock price')\n",
        "plt.show()"
      ],
      "metadata": {
        "colab": {
          "base_uri": "https://localhost:8080/",
          "height": 285
        },
        "id": "GyKbahxPR1vP",
        "outputId": "392d2cb7-21e9-461f-bd68-2aafb7b4fb10"
      },
      "execution_count": null,
      "outputs": [
        {
          "output_type": "display_data",
          "data": {
            "text/plain": [
              "<Figure size 1152x288 with 1 Axes>"
            ],
            "image/png": "[encoded data removed]"
          },
          "metadata": {
            "needs_background": "light"
          }
        }
      ]
    },
    {
      "cell_type": "markdown",
      "source": [
        "#model preparation"
      ],
      "metadata": {
        "id": "8YubZnn398XN"
      }
    },
    {
      "cell_type": "markdown",
      "source": [
        "The train test split (Train 2006-2016) (Test 2017)"
      ],
      "metadata": {
        "id": "AjTGchTrU-hQ"
      }
    },
    {
      "cell_type": "code",
      "source": [
        "train = data[:'2016'].iloc[:,1:2].values\n",
        "test = data['2017':].iloc[:,1:2].values\n",
        "print(len(train))\n",
        "print(len(test))"
      ],
      "metadata": {
        "colab": {
          "base_uri": "https://localhost:8080/"
        },
        "id": "XL7fxLqRQC3n",
        "outputId": "b91afb6f-caa6-4c8f-d830-fdc055b5b0c0"
      },
      "execution_count": null,
      "outputs": [
        {
          "output_type": "stream",
          "name": "stdout",
          "text": [
            "2769\n",
            "251\n"
          ]
        }
      ]
    },
    {
      "cell_type": "markdown",
      "source": [
        "We'll be scaling the training data to make them from 0 to 1"
      ],
      "metadata": {
        "id": "ko9sONb7V5OP"
      }
    },
    {
      "cell_type": "markdown",
      "source": [
        "Reference: https://www.simplilearn.com/tutorials/machine-learning-tutorial/stock-price-prediction-using-machine-learning"
      ],
      "metadata": {
        "id": "alhDvlxX9Tjd"
      }
    },
    {
      "cell_type": "markdown",
      "source": [
        "we'll scale the data in to a specific range using each feature's minimum and maximum value.\n",
        "The performance of our models might be harmed by the scale of data being considerably different for some features compared to others. This is especially true for algorithms like neural networks that depend on distance measurements."
      ],
      "metadata": {
        "id": "BouOV74LwxpH"
      }
    },
    {
      "cell_type": "code",
      "source": [
        "sc = MinMaxScaler(feature_range=(0,1))\n",
        "train_scaled = sc.fit_transform(train)\n",
        "train_scaled"
      ],
      "metadata": {
        "colab": {
          "base_uri": "https://localhost:8080/"
        },
        "id": "bwU2TdAyQ7TR",
        "outputId": "a02f2da6-796d-4e2b-bbb5-f4827fbdf3cb"
      },
      "execution_count": null,
      "outputs": [
        {
          "output_type": "execute_result",
          "data": {
            "text/plain": [
              "array([[0.06065089],\n",
              "       [0.06029868],\n",
              "       [0.06311637],\n",
              "       ...,\n",
              "       [0.66074951],\n",
              "       [0.65546633],\n",
              "       [0.6534235 ]])"
            ]
          },
          "metadata": {},
          "execution_count": 44
        }
      ]
    },
    {
      "cell_type": "markdown",
      "source": [
        "Creating a data structure with 60 timesteps and 1 output\n",
        "So for every of training set we have 60 previous training set elements that acts as a memory to predict the y value.\n",
        "basically 2 months of data to predict the next day"
      ],
      "metadata": {
        "id": "lOpiLhld_v-E"
      }
    },
    {
      "cell_type": "code",
      "source": [
        "len(data)-len(test)"
      ],
      "metadata": {
        "colab": {
          "base_uri": "https://localhost:8080/"
        },
        "id": "OrdyHSfPmKjh",
        "outputId": "d788a3cc-9fe3-4511-9c40-3c4e0e577278"
      },
      "execution_count": null,
      "outputs": [
        {
          "output_type": "execute_result",
          "data": {
            "text/plain": [
              "2769"
            ]
          },
          "metadata": {},
          "execution_count": 45
        }
      ]
    },
    {
      "cell_type": "code",
      "source": [
        "x_train = []\n",
        "y_train = []\n",
        "for i in range(60,2769):\n",
        "  x_train.append(train_scaled[i-60:i,0])\n",
        "  y_train.append(train_scaled[i,0])\n",
        "x_train = np.array(x_train)\n",
        "y_train = np.array(y_train)"
      ],
      "metadata": {
        "id": "m0pTXVPbGbvX"
      },
      "execution_count": null,
      "outputs": []
    },
    {
      "cell_type": "code",
      "source": [
        "print(x_train[0])\n",
        "print(y_train[0])\n",
        "print(\"Shape:\",x_train.shape)\n",
        "print(\"Shape:\",y_train.shape)"
      ],
      "metadata": {
        "colab": {
          "base_uri": "https://localhost:8080/"
        },
        "id": "oEdzNkhm-jdC",
        "outputId": "56b805cb-2662-4a1a-cda3-78d76fff692f"
      },
      "execution_count": null,
      "outputs": [
        {
          "output_type": "stream",
          "name": "stdout",
          "text": [
            "[0.06065089 0.06029868 0.06311637 0.0781206  0.07262609 0.07171034\n",
            " 0.07657087 0.07058326 0.0669907  0.06494787 0.075796   0.07361229\n",
            " 0.06417301 0.05621302 0.05783319 0.05409975 0.05431107 0.05515638\n",
            " 0.05543815 0.05677656 0.05846717 0.05388842 0.04811214 0.04233587\n",
            " 0.04402649 0.0490279  0.04832347 0.05297267 0.05614258 0.05290223\n",
            " 0.05325444 0.04909834 0.04994365 0.04797126 0.05431107 0.05212736\n",
            " 0.04726684 0.04895745 0.04656241 0.04839391 0.04416737 0.0485348\n",
            " 0.04719639 0.04825303 0.05395886 0.05663567 0.05853762 0.05959425\n",
            " 0.06375035 0.06917442 0.06889265 0.06670893 0.06910397 0.07783883\n",
            " 0.07565511 0.07276698 0.06889265 0.0656523  0.06656805 0.06769513]\n",
            "0.06875176105945335\n",
            "Shape: (2709, 60)\n",
            "Shape: (2709,)\n"
          ]
        }
      ]
    },
    {
      "cell_type": "markdown",
      "source": [
        "reshaping x_train so we will take the values separately in sets of 60 for efficient modelling "
      ],
      "metadata": {
        "id": "liLBF46wAEsl"
      }
    },
    {
      "cell_type": "code",
      "source": [
        "x_train = np.reshape(x_train,(x_train.shape[0],x_train.shape[1],1))\n",
        "x_train.shape"
      ],
      "metadata": {
        "colab": {
          "base_uri": "https://localhost:8080/"
        },
        "id": "xHiGkgmW-nFK",
        "outputId": "3275353a-bade-46ca-e378-871a2f2540a6"
      },
      "execution_count": null,
      "outputs": [
        {
          "output_type": "execute_result",
          "data": {
            "text/plain": [
              "(2709, 60, 1)"
            ]
          },
          "metadata": {},
          "execution_count": 48
        }
      ]
    },
    {
      "cell_type": "code",
      "source": [
        "x_train[0]"
      ],
      "metadata": {
        "colab": {
          "base_uri": "https://localhost:8080/"
        },
        "id": "kGeAIZDOmbA0",
        "outputId": "b2e14594-a3f0-40d3-bd59-7d754539a053"
      },
      "execution_count": null,
      "outputs": [
        {
          "output_type": "execute_result",
          "data": {
            "text/plain": [
              "array([[0.06065089],\n",
              "       [0.06029868],\n",
              "       [0.06311637],\n",
              "       [0.0781206 ],\n",
              "       [0.07262609],\n",
              "       [0.07171034],\n",
              "       [0.07657087],\n",
              "       [0.07058326],\n",
              "       [0.0669907 ],\n",
              "       [0.06494787],\n",
              "       [0.075796  ],\n",
              "       [0.07361229],\n",
              "       [0.06417301],\n",
              "       [0.05621302],\n",
              "       [0.05783319],\n",
              "       [0.05409975],\n",
              "       [0.05431107],\n",
              "       [0.05515638],\n",
              "       [0.05543815],\n",
              "       [0.05677656],\n",
              "       [0.05846717],\n",
              "       [0.05388842],\n",
              "       [0.04811214],\n",
              "       [0.04233587],\n",
              "       [0.04402649],\n",
              "       [0.0490279 ],\n",
              "       [0.04832347],\n",
              "       [0.05297267],\n",
              "       [0.05614258],\n",
              "       [0.05290223],\n",
              "       [0.05325444],\n",
              "       [0.04909834],\n",
              "       [0.04994365],\n",
              "       [0.04797126],\n",
              "       [0.05431107],\n",
              "       [0.05212736],\n",
              "       [0.04726684],\n",
              "       [0.04895745],\n",
              "       [0.04656241],\n",
              "       [0.04839391],\n",
              "       [0.04416737],\n",
              "       [0.0485348 ],\n",
              "       [0.04719639],\n",
              "       [0.04825303],\n",
              "       [0.05395886],\n",
              "       [0.05663567],\n",
              "       [0.05853762],\n",
              "       [0.05959425],\n",
              "       [0.06375035],\n",
              "       [0.06917442],\n",
              "       [0.06889265],\n",
              "       [0.06670893],\n",
              "       [0.06910397],\n",
              "       [0.07783883],\n",
              "       [0.07565511],\n",
              "       [0.07276698],\n",
              "       [0.06889265],\n",
              "       [0.0656523 ],\n",
              "       [0.06656805],\n",
              "       [0.06769513]])"
            ]
          },
          "metadata": {},
          "execution_count": 49
        }
      ]
    },
    {
      "cell_type": "markdown",
      "source": [
        "we will concat the dataset to only include high"
      ],
      "metadata": {
        "id": "_1SccB8PkaQw"
      }
    },
    {
      "cell_type": "code",
      "source": [
        "data_total = pd.concat((data[\"High\"][:'2016'],data[\"High\"]['2017':]),axis=0)\n",
        "data_total"
      ],
      "metadata": {
        "colab": {
          "base_uri": "https://localhost:8080/"
        },
        "id": "ZqFLEBcVlCCA",
        "outputId": "db9042f4-90f0-40db-dcf6-57428c275476"
      },
      "execution_count": null,
      "outputs": [
        {
          "output_type": "execute_result",
          "data": {
            "text/plain": [
              "Date\n",
              "2006-01-03     82.55\n",
              "2006-01-04     82.50\n",
              "2006-01-05     82.90\n",
              "2006-01-06     85.03\n",
              "2006-01-09     84.25\n",
              "               ...  \n",
              "2017-12-22    153.00\n",
              "2017-12-26    153.86\n",
              "2017-12-27    153.18\n",
              "2017-12-28    154.12\n",
              "2017-12-29    154.72\n",
              "Name: High, Length: 3020, dtype: float64"
            ]
          },
          "metadata": {},
          "execution_count": 50
        }
      ]
    },
    {
      "cell_type": "code",
      "source": [
        "len(data_total)-len(test)"
      ],
      "metadata": {
        "colab": {
          "base_uri": "https://localhost:8080/"
        },
        "id": "s4IerV6yldGx",
        "outputId": "34d60a40-20e9-4fa6-cd92-276854771042"
      },
      "execution_count": null,
      "outputs": [
        {
          "output_type": "execute_result",
          "data": {
            "text/plain": [
              "2769"
            ]
          },
          "metadata": {},
          "execution_count": 51
        }
      ]
    },
    {
      "cell_type": "markdown",
      "source": [
        "we'll make input take the last 60 inputs of the train data and all the test data.\n",
        "we need the last 60 inputs to predict the first day of test"
      ],
      "metadata": {
        "id": "F2wDiupllrR4"
      }
    },
    {
      "cell_type": "code",
      "source": [
        "inputs = data_total[len(data_total)-len(test) - 60:].values\n",
        "inputs = inputs.reshape(-1,1)\n",
        "inputs  = sc.transform(inputs)"
      ],
      "metadata": {
        "id": "c57NrCdNXh6z"
      },
      "execution_count": null,
      "outputs": []
    },
    {
      "cell_type": "code",
      "source": [
        "len(test)+60"
      ],
      "metadata": {
        "colab": {
          "base_uri": "https://localhost:8080/"
        },
        "id": "QsrD7hjrmEfp",
        "outputId": "417667a9-a26e-4d1b-ee83-507e634c77eb"
      },
      "execution_count": null,
      "outputs": [
        {
          "output_type": "execute_result",
          "data": {
            "text/plain": [
              "311"
            ]
          },
          "metadata": {},
          "execution_count": 53
        }
      ]
    },
    {
      "cell_type": "code",
      "source": [
        "X_test = []\n",
        "for i in range(60,311):\n",
        "    X_test.append(inputs[i-60:i,0])\n",
        "X_test = np.array(X_test)\n",
        "X_test = np.reshape(X_test, (X_test.shape[0],X_test.shape[1],1))"
      ],
      "metadata": {
        "id": "SdFNCZ6kXmcj"
      },
      "execution_count": null,
      "outputs": []
    },
    {
      "cell_type": "markdown",
      "source": [
        "#Model1\n",
        "using 1 layer with number of neuorns being 2^n n=3,4,5,..."
      ],
      "metadata": {
        "id": "rJjM8UytK3v0"
      }
    },
    {
      "cell_type": "code",
      "source": [
        "def train_H1(n):\n",
        "   model = Sequential([\n",
        "        Dense(units=n, input_shape=(60,),activation='relu'),\n",
        "        Dense(units=1,activation='linear')\n",
        "    ])\n",
        "\n",
        "   model.compile(optimizer='adam',\n",
        "                loss='mean_squared_error')\n",
        "   return model"
      ],
      "metadata": {
        "id": "VQJTfNecfOlj"
      },
      "execution_count": null,
      "outputs": []
    },
    {
      "cell_type": "code",
      "source": [
        "Model1 = train_H1(8)\n",
        "Model1.summary()"
      ],
      "metadata": {
        "colab": {
          "base_uri": "https://localhost:8080/"
        },
        "id": "0SPMGq9PAqsy",
        "outputId": "6e53572b-07ab-493a-f0df-a69d5d19891a"
      },
      "execution_count": null,
      "outputs": [
        {
          "output_type": "stream",
          "name": "stdout",
          "text": [
            "Model: \"sequential_5\"\n",
            "_________________________________________________________________\n",
            " Layer (type)                Output Shape              Param #   \n",
            "=================================================================\n",
            " dense_14 (Dense)            (None, 8)                 488       \n",
            "                                                                 \n",
            " dense_15 (Dense)            (None, 1)                 9         \n",
            "                                                                 \n",
            "=================================================================\n",
            "Total params: 497\n",
            "Trainable params: 497\n",
            "Non-trainable params: 0\n",
            "_________________________________________________________________\n"
          ]
        }
      ]
    },
    {
      "cell_type": "code",
      "source": [
        "es = EarlyStopping(monitor='loss', verbose=1, patience=25)\n",
        "\n",
        "Model1.fit(x_train, y_train, epochs=1000,verbose=0, callbacks=[es])"
      ],
      "metadata": {
        "colab": {
          "base_uri": "https://localhost:8080/"
        },
        "id": "A4czgc5zBgXF",
        "outputId": "2a4bc8f3-a01b-4ae6-f290-462f3edcfa12"
      },
      "execution_count": null,
      "outputs": [
        {
          "output_type": "stream",
          "name": "stdout",
          "text": [
            "Epoch 309: early stopping\n"
          ]
        },
        {
          "output_type": "execute_result",
          "data": {
            "text/plain": [
              "<keras.callbacks.History at 0x7ff5418a4c50>"
            ]
          },
          "metadata": {},
          "execution_count": 46
        }
      ]
    },
    {
      "cell_type": "code",
      "source": [
        "y_pred = Model1.predict(X_test)\n",
        "y_pred = sc.inverse_transform(y_pred)\n",
        "plt.plot(test, color='red',label='Real IBM Stock Price')\n",
        "plt.plot(y_pred, color='blue',label='Predicted IBM Stock Price')\n",
        "plt.title('IBM Stock Price Prediction')\n",
        "plt.xlabel('Time')\n",
        "plt.ylabel('IBM Stock Price')\n",
        "plt.legend()\n",
        "plt.show()\n",
        "rmse = math.sqrt(mean_squared_error(test, y_pred))\n",
        "print(\"The root mean squared error is {}.\".format(rmse))"
      ],
      "metadata": {
        "id": "Zkz5QIIxPHM9",
        "colab": {
          "base_uri": "https://localhost:8080/",
          "height": 330
        },
        "outputId": "66751742-0c18-44c5-f662-056407ea0f79"
      },
      "execution_count": null,
      "outputs": [
        {
          "output_type": "stream",
          "name": "stdout",
          "text": [
            "8/8 [==============================] - 0s 3ms/step\n"
          ]
        },
        {
          "output_type": "display_data",
          "data": {
            "text/plain": [
              "<Figure size 432x288 with 1 Axes>"
            ],
            "image/png": "[encoded data removed]"
          },
          "metadata": {
            "needs_background": "light"
          }
        },
        {
          "output_type": "stream",
          "name": "stdout",
          "text": [
            "The root mean squared error is 2.0898921596951614.\n"
          ]
        }
      ]
    },
    {
      "cell_type": "markdown",
      "source": [
        "neuorns 16"
      ],
      "metadata": {
        "id": "HxjwIDKoZmp0"
      }
    },
    {
      "cell_type": "code",
      "source": [
        "Model1_1 = train_H1(16)\n",
        "Model1_1.summary()"
      ],
      "metadata": {
        "id": "RxmGu9twPHHh",
        "colab": {
          "base_uri": "https://localhost:8080/"
        },
        "outputId": "a393c850-ab7f-42c6-bda5-d13c2935ef2a"
      },
      "execution_count": null,
      "outputs": [
        {
          "output_type": "stream",
          "name": "stdout",
          "text": [
            "Model: \"sequential_1\"\n",
            "_________________________________________________________________\n",
            " Layer (type)                Output Shape              Param #   \n",
            "=================================================================\n",
            " dense_2 (Dense)             (None, 16)                976       \n",
            "                                                                 \n",
            " dense_3 (Dense)             (None, 1)                 17        \n",
            "                                                                 \n",
            "=================================================================\n",
            "Total params: 993\n",
            "Trainable params: 993\n",
            "Non-trainable params: 0\n",
            "_________________________________________________________________\n"
          ]
        }
      ]
    },
    {
      "cell_type": "code",
      "source": [
        "es = EarlyStopping(monitor='loss', verbose=1, patience=25)\n",
        "\n",
        "Model1_1.fit(x_train, y_train, epochs=1000,verbose=0, callbacks=[es])"
      ],
      "metadata": {
        "id": "8i3odjYcPHEp",
        "colab": {
          "base_uri": "https://localhost:8080/"
        },
        "outputId": "cb48bace-7199-4e8e-ce51-0ab88207254d"
      },
      "execution_count": null,
      "outputs": [
        {
          "output_type": "stream",
          "name": "stdout",
          "text": [
            "Epoch 278: early stopping\n"
          ]
        },
        {
          "output_type": "execute_result",
          "data": {
            "text/plain": [
              "<keras.callbacks.History at 0x7fea7f9dd850>"
            ]
          },
          "metadata": {},
          "execution_count": 27
        }
      ]
    },
    {
      "cell_type": "code",
      "source": [
        "y_pred = Model1_1.predict(X_test)\n",
        "y_pred = sc.inverse_transform(y_pred)\n",
        "plt.plot(test, color='red',label='Real IBM Stock Price')\n",
        "plt.plot(y_pred, color='blue',label='Predicted IBM Stock Price')\n",
        "plt.title('IBM Stock Price Prediction')\n",
        "plt.xlabel('Time')\n",
        "plt.ylabel('IBM Stock Price')\n",
        "plt.legend()\n",
        "plt.show()\n",
        "rmse = math.sqrt(mean_squared_error(test, y_pred))\n",
        "print(\"The root mean squared error is {}.\".format(rmse))"
      ],
      "metadata": {
        "id": "8vUfrThiLez7",
        "colab": {
          "base_uri": "https://localhost:8080/",
          "height": 330
        },
        "outputId": "a77e4555-66c3-43e0-f6f6-0265b8b66199"
      },
      "execution_count": null,
      "outputs": [
        {
          "output_type": "stream",
          "name": "stdout",
          "text": [
            "8/8 [==============================] - 0s 2ms/step\n"
          ]
        },
        {
          "output_type": "display_data",
          "data": {
            "text/plain": [
              "<Figure size 432x288 with 1 Axes>"
            ],
            "image/png": "[encoded data removed]"
          },
          "metadata": {
            "needs_background": "light"
          }
        },
        {
          "output_type": "stream",
          "name": "stdout",
          "text": [
            "The root mean squared error is 1.7666275649793564.\n"
          ]
        }
      ]
    },
    {
      "cell_type": "markdown",
      "source": [
        "32"
      ],
      "metadata": {
        "id": "m9XpfeGQac8-"
      }
    },
    {
      "cell_type": "code",
      "source": [
        "Model1_2 = train_H1(32)\n",
        "Model1_2.summary()"
      ],
      "metadata": {
        "colab": {
          "base_uri": "https://localhost:8080/"
        },
        "id": "mYwdsLXMaAFZ",
        "outputId": "9a1bca54-6aa4-4641-bf2c-27631ab1e03d"
      },
      "execution_count": null,
      "outputs": [
        {
          "output_type": "stream",
          "name": "stdout",
          "text": [
            "Model: \"sequential_2\"\n",
            "_________________________________________________________________\n",
            " Layer (type)                Output Shape              Param #   \n",
            "=================================================================\n",
            " dense_4 (Dense)             (None, 32)                1952      \n",
            "                                                                 \n",
            " dense_5 (Dense)             (None, 1)                 33        \n",
            "                                                                 \n",
            "=================================================================\n",
            "Total params: 1,985\n",
            "Trainable params: 1,985\n",
            "Non-trainable params: 0\n",
            "_________________________________________________________________\n"
          ]
        }
      ]
    },
    {
      "cell_type": "code",
      "source": [
        "\n",
        "\n",
        "es = EarlyStopping(monitor='loss', verbose=1, patience=25)\n",
        "\n",
        "Model1_2.fit(x_train, y_train, epochs=1000,verbose=0, callbacks=[es])"
      ],
      "metadata": {
        "colab": {
          "base_uri": "https://localhost:8080/"
        },
        "id": "fGd1ymjpaACB",
        "outputId": "a2949950-f69e-4029-ce9a-038e6d4fdc0f"
      },
      "execution_count": null,
      "outputs": [
        {
          "output_type": "stream",
          "name": "stdout",
          "text": [
            "Epoch 262: early stopping\n"
          ]
        },
        {
          "output_type": "execute_result",
          "data": {
            "text/plain": [
              "<keras.callbacks.History at 0x7fea83dc7a90>"
            ]
          },
          "metadata": {},
          "execution_count": 30
        }
      ]
    },
    {
      "cell_type": "code",
      "source": [
        "y_pred = Model1_2.predict(X_test)\n",
        "y_pred = sc.inverse_transform(y_pred)\n",
        "plt.plot(test, color='red',label='Real IBM Stock Price')\n",
        "plt.plot(y_pred, color='blue',label='Predicted IBM Stock Price')\n",
        "plt.title('IBM Stock Price Prediction')\n",
        "plt.xlabel('Time')\n",
        "plt.ylabel('IBM Stock Price')\n",
        "plt.legend()\n",
        "plt.show()\n",
        "rmse = math.sqrt(mean_squared_error(test, y_pred))\n",
        "print(\"The root mean squared error is {}.\".format(rmse))"
      ],
      "metadata": {
        "colab": {
          "base_uri": "https://localhost:8080/",
          "height": 330
        },
        "id": "EXA3CR40Z_6j",
        "outputId": "425b72dc-245a-4eb2-b88f-9e19ada3ee0e"
      },
      "execution_count": null,
      "outputs": [
        {
          "output_type": "stream",
          "name": "stdout",
          "text": [
            "8/8 [==============================] - 0s 2ms/step\n"
          ]
        },
        {
          "output_type": "display_data",
          "data": {
            "text/plain": [
              "<Figure size 432x288 with 1 Axes>"
            ],
            "image/png": "[encoded data removed]"
          },
          "metadata": {
            "needs_background": "light"
          }
        },
        {
          "output_type": "stream",
          "name": "stdout",
          "text": [
            "The root mean squared error is 2.157943530379578.\n"
          ]
        }
      ]
    },
    {
      "cell_type": "markdown",
      "source": [
        "64"
      ],
      "metadata": {
        "id": "41WNWMAo750K"
      }
    },
    {
      "cell_type": "code",
      "source": [
        "Model1_3 = train_H1(64)\n",
        "Model1_3.summary()"
      ],
      "metadata": {
        "colab": {
          "base_uri": "https://localhost:8080/"
        },
        "outputId": "0181d600-7728-4217-941d-0bfc2fbed7dc",
        "id": "kY8M4n7tajsW"
      },
      "execution_count": null,
      "outputs": [
        {
          "output_type": "stream",
          "name": "stdout",
          "text": [
            "Model: \"sequential_8\"\n",
            "_________________________________________________________________\n",
            " Layer (type)                Output Shape              Param #   \n",
            "=================================================================\n",
            " dense_16 (Dense)            (None, 64)                3904      \n",
            "                                                                 \n",
            " dense_17 (Dense)            (None, 1)                 65        \n",
            "                                                                 \n",
            "=================================================================\n",
            "Total params: 3,969\n",
            "Trainable params: 3,969\n",
            "Non-trainable params: 0\n",
            "_________________________________________________________________\n"
          ]
        }
      ]
    },
    {
      "cell_type": "code",
      "source": [
        "\n",
        "es = EarlyStopping(monitor='loss', verbose=1, patience=25)\n",
        "\n",
        "Model1_3.fit(x_train, y_train, epochs=1000,verbose=0, callbacks=[es])"
      ],
      "metadata": {
        "colab": {
          "base_uri": "https://localhost:8080/"
        },
        "outputId": "01d3757b-036c-4990-eaac-1e613c687cf8",
        "id": "14X9cTulajsX"
      },
      "execution_count": null,
      "outputs": [
        {
          "output_type": "stream",
          "name": "stdout",
          "text": [
            "Epoch 117: early stopping\n"
          ]
        },
        {
          "output_type": "execute_result",
          "data": {
            "text/plain": [
              "<keras.callbacks.History at 0x7fea7618fed0>"
            ]
          },
          "metadata": {},
          "execution_count": 48
        }
      ]
    },
    {
      "cell_type": "code",
      "source": [
        "y_pred = Model1_3.predict(X_test)\n",
        "y_pred = sc.inverse_transform(y_pred)\n",
        "plt.plot(test, color='red',label='Real IBM Stock Price')\n",
        "plt.plot(y_pred, color='blue',label='Predicted IBM Stock Price')\n",
        "plt.title('IBM Stock Price Prediction')\n",
        "plt.xlabel('Time')\n",
        "plt.ylabel('IBM Stock Price')\n",
        "plt.legend()\n",
        "plt.show()\n",
        "rmse = math.sqrt(mean_squared_error(test, y_pred))\n",
        "print(\"The root mean squared error is {}.\".format(rmse))"
      ],
      "metadata": {
        "colab": {
          "base_uri": "https://localhost:8080/",
          "height": 330
        },
        "outputId": "fcf962fd-39f1-461d-f149-5812ee4bf3fe",
        "id": "fJ-eJRCjajsX"
      },
      "execution_count": null,
      "outputs": [
        {
          "output_type": "stream",
          "name": "stdout",
          "text": [
            "8/8 [==============================] - 0s 1ms/step\n"
          ]
        },
        {
          "output_type": "display_data",
          "data": {
            "text/plain": [
              "<Figure size 432x288 with 1 Axes>"
            ],
            "image/png": "[encoded data removed]"
          },
          "metadata": {
            "needs_background": "light"
          }
        },
        {
          "output_type": "stream",
          "name": "stdout",
          "text": [
            "The root mean squared error is 1.7389707285295049.\n"
          ]
        }
      ]
    },
    {
      "cell_type": "code",
      "source": [
        "Model1_4 = train_H1(128)\n",
        "Model1_4.summary()"
      ],
      "metadata": {
        "colab": {
          "base_uri": "https://localhost:8080/"
        },
        "id": "RNnKdfzzoCN3",
        "outputId": "0ddb1365-67a7-44b2-875c-53eeb61171c1"
      },
      "execution_count": null,
      "outputs": [
        {
          "output_type": "stream",
          "name": "stdout",
          "text": [
            "Model: \"sequential_9\"\n",
            "_________________________________________________________________\n",
            " Layer (type)                Output Shape              Param #   \n",
            "=================================================================\n",
            " dense_18 (Dense)            (None, 128)               7808      \n",
            "                                                                 \n",
            " dense_19 (Dense)            (None, 1)                 129       \n",
            "                                                                 \n",
            "=================================================================\n",
            "Total params: 7,937\n",
            "Trainable params: 7,937\n",
            "Non-trainable params: 0\n",
            "_________________________________________________________________\n"
          ]
        }
      ]
    },
    {
      "cell_type": "code",
      "source": [
        "es = EarlyStopping(monitor='loss', verbose=1, patience=25)\n",
        "\n",
        "Model1_4.fit(x_train, y_train, epochs=1000,verbose=0, callbacks=[es])"
      ],
      "metadata": {
        "colab": {
          "base_uri": "https://localhost:8080/"
        },
        "id": "cLYpaOeToOOY",
        "outputId": "f2e9e1fe-3e8d-48a3-8ec2-c2b01b9e0e93"
      },
      "execution_count": null,
      "outputs": [
        {
          "output_type": "stream",
          "name": "stdout",
          "text": [
            "Epoch 97: early stopping\n"
          ]
        },
        {
          "output_type": "execute_result",
          "data": {
            "text/plain": [
              "<keras.callbacks.History at 0x7fea76060310>"
            ]
          },
          "metadata": {},
          "execution_count": 51
        }
      ]
    },
    {
      "cell_type": "code",
      "source": [
        "y_pred = Model1_4.predict(X_test)\n",
        "y_pred = sc.inverse_transform(y_pred)\n",
        "plt.plot(test, color='red',label='Real IBM Stock Price')\n",
        "plt.plot(y_pred, color='blue',label='Predicted IBM Stock Price')\n",
        "plt.title('IBM Stock Price Prediction')\n",
        "plt.xlabel('Time')\n",
        "plt.ylabel('IBM Stock Price')\n",
        "plt.legend()\n",
        "plt.show()\n",
        "rmse = math.sqrt(mean_squared_error(test, y_pred))\n",
        "print(\"The root mean squared error is {}.\".format(rmse))"
      ],
      "metadata": {
        "colab": {
          "base_uri": "https://localhost:8080/",
          "height": 330
        },
        "id": "yBfcxd9IoQwO",
        "outputId": "7cbaca67-2b65-4596-95b4-7f46f24129a2"
      },
      "execution_count": null,
      "outputs": [
        {
          "output_type": "stream",
          "name": "stdout",
          "text": [
            "8/8 [==============================] - 0s 2ms/step\n"
          ]
        },
        {
          "output_type": "display_data",
          "data": {
            "text/plain": [
              "<Figure size 432x288 with 1 Axes>"
            ],
            "image/png": "[encoded data removed]"
          },
          "metadata": {
            "needs_background": "light"
          }
        },
        {
          "output_type": "stream",
          "name": "stdout",
          "text": [
            "The root mean squared error is 2.822506547501928.\n"
          ]
        }
      ]
    },
    {
      "cell_type": "code",
      "source": [
        "Model1_5 = train_H1(256)\n",
        "Model1_5.summary()"
      ],
      "metadata": {
        "colab": {
          "base_uri": "https://localhost:8080/"
        },
        "id": "j-PaTPHRouW-",
        "outputId": "8f81b4a1-8593-4d7d-88d2-55b1f7110ee5"
      },
      "execution_count": null,
      "outputs": [
        {
          "output_type": "stream",
          "name": "stdout",
          "text": [
            "Model: \"sequential_5\"\n",
            "_________________________________________________________________\n",
            " Layer (type)                Output Shape              Param #   \n",
            "=================================================================\n",
            " dense_10 (Dense)            (None, 256)               15616     \n",
            "                                                                 \n",
            " dense_11 (Dense)            (None, 1)                 257       \n",
            "                                                                 \n",
            "=================================================================\n",
            "Total params: 15,873\n",
            "Trainable params: 15,873\n",
            "Non-trainable params: 0\n",
            "_________________________________________________________________\n"
          ]
        }
      ]
    },
    {
      "cell_type": "code",
      "source": [
        "es = EarlyStopping(monitor='loss', verbose=1, patience=25)\n",
        "\n",
        "Model1_5.fit(x_train, y_train, epochs=1000,verbose=0, callbacks=[es])"
      ],
      "metadata": {
        "colab": {
          "base_uri": "https://localhost:8080/"
        },
        "id": "2GMxEWLVouR_",
        "outputId": "6cbf879d-585c-438e-968d-fd6096361715"
      },
      "execution_count": null,
      "outputs": [
        {
          "output_type": "stream",
          "name": "stdout",
          "text": [
            "Epoch 104: early stopping\n"
          ]
        },
        {
          "output_type": "execute_result",
          "data": {
            "text/plain": [
              "<keras.callbacks.History at 0x7fea7f439810>"
            ]
          },
          "metadata": {},
          "execution_count": 39
        }
      ]
    },
    {
      "cell_type": "code",
      "source": [
        "y_pred = Model1_5.predict(X_test)\n",
        "y_pred = sc.inverse_transform(y_pred)\n",
        "plt.plot(test, color='red',label='Real IBM Stock Price')\n",
        "plt.plot(y_pred, color='blue',label='Predicted IBM Stock Price')\n",
        "plt.title('IBM Stock Price Prediction')\n",
        "plt.xlabel('Time')\n",
        "plt.ylabel('IBM Stock Price')\n",
        "plt.legend()\n",
        "plt.show()\n",
        "rmse = math.sqrt(mean_squared_error(test, y_pred))\n",
        "print(\"The root mean squared error is {}.\".format(rmse))"
      ],
      "metadata": {
        "colab": {
          "base_uri": "https://localhost:8080/",
          "height": 330
        },
        "id": "POxcuxzaouMP",
        "outputId": "213f2ef3-618a-4cbd-81cf-7a3a4164871a"
      },
      "execution_count": null,
      "outputs": [
        {
          "output_type": "stream",
          "name": "stdout",
          "text": [
            "8/8 [==============================] - 0s 2ms/step\n"
          ]
        },
        {
          "output_type": "display_data",
          "data": {
            "text/plain": [
              "<Figure size 432x288 with 1 Axes>"
            ],
            "image/png": "[encoded data removed]"
          },
          "metadata": {
            "needs_background": "light"
          }
        },
        {
          "output_type": "stream",
          "name": "stdout",
          "text": [
            "The root mean squared error is 4.7329144832433.\n"
          ]
        }
      ]
    },
    {
      "cell_type": "markdown",
      "source": [
        "it seems it starts to overfit here so we stop increasing and take the best model which in this case with 64 neurons"
      ],
      "metadata": {
        "id": "FdoxtB5Dccmj"
      }
    },
    {
      "cell_type": "markdown",
      "source": [
        "#Model2\n",
        "we will try to increase the parameters by a small amount by adding a layer with 8 neurons"
      ],
      "metadata": {
        "id": "sLkTCikttbtV"
      }
    },
    {
      "cell_type": "code",
      "source": [
        "Model2 = Sequential([\n",
        "        Dense(units=64, input_shape=(60,),activation='relu'),\n",
        "        Dense(units=8,activation='relu'),\n",
        "        Dense(units=1,activation='linear')\n",
        "    ])\n",
        "Model2.summary()"
      ],
      "metadata": {
        "colab": {
          "base_uri": "https://localhost:8080/"
        },
        "id": "yc4WG6qAtaud",
        "outputId": "fca57a04-6f5e-4dc0-cb61-9b6f25199a88"
      },
      "execution_count": null,
      "outputs": [
        {
          "output_type": "stream",
          "name": "stdout",
          "text": [
            "Model: \"sequential_7\"\n",
            "_________________________________________________________________\n",
            " Layer (type)                Output Shape              Param #   \n",
            "=================================================================\n",
            " dense_19 (Dense)            (None, 64)                3904      \n",
            "                                                                 \n",
            " dense_20 (Dense)            (None, 8)                 520       \n",
            "                                                                 \n",
            " dense_21 (Dense)            (None, 1)                 9         \n",
            "                                                                 \n",
            "=================================================================\n",
            "Total params: 4,433\n",
            "Trainable params: 4,433\n",
            "Non-trainable params: 0\n",
            "_________________________________________________________________\n"
          ]
        }
      ]
    },
    {
      "cell_type": "code",
      "source": [
        "Model2.compile(optimizer='adam',\n",
        "                loss='mean_squared_error')\n",
        "es = EarlyStopping(monitor='loss', verbose=1, patience=25)\n",
        "\n",
        "Model2.fit(x_train, y_train, epochs=1000,verbose=0, callbacks=[es])"
      ],
      "metadata": {
        "colab": {
          "base_uri": "https://localhost:8080/"
        },
        "id": "F7VV1s9AuJF8",
        "outputId": "6369dbd0-3e3e-433c-da4f-221178f199e3"
      },
      "execution_count": null,
      "outputs": [
        {
          "output_type": "stream",
          "name": "stdout",
          "text": [
            "Epoch 106: early stopping\n"
          ]
        },
        {
          "output_type": "execute_result",
          "data": {
            "text/plain": [
              "<keras.callbacks.History at 0x7fea71cae250>"
            ]
          },
          "metadata": {},
          "execution_count": 102
        }
      ]
    },
    {
      "cell_type": "code",
      "source": [
        "y_pred = Model2.predict(X_test)\n",
        "y_pred = sc.inverse_transform(y_pred)\n",
        "plt.plot(test, color='red',label='Real IBM Stock Price')\n",
        "plt.plot(y_pred, color='blue',label='Predicted IBM Stock Price')\n",
        "plt.title('IBM Stock Price Prediction')\n",
        "plt.xlabel('Time')\n",
        "plt.ylabel('IBM Stock Price')\n",
        "plt.legend()\n",
        "plt.show()\n",
        "rmse = math.sqrt(mean_squared_error(test, y_pred))\n",
        "print(\"The root mean squared error is {}.\".format(rmse))"
      ],
      "metadata": {
        "colab": {
          "base_uri": "https://localhost:8080/",
          "height": 330
        },
        "id": "XqdaUt_XuJCU",
        "outputId": "c7a801d7-7454-4ff4-9a95-6af2708d7291"
      },
      "execution_count": null,
      "outputs": [
        {
          "output_type": "stream",
          "name": "stdout",
          "text": [
            "8/8 [==============================] - 0s 2ms/step\n"
          ]
        },
        {
          "output_type": "display_data",
          "data": {
            "text/plain": [
              "<Figure size 432x288 with 1 Axes>"
            ],
            "image/png": "[encoded data removed]"
          },
          "metadata": {
            "needs_background": "light"
          }
        },
        {
          "output_type": "stream",
          "name": "stdout",
          "text": [
            "The root mean squared error is 1.689015634641087.\n"
          ]
        }
      ]
    },
    {
      "cell_type": "markdown",
      "source": [
        "there seems to be improvements so we'll increase the parameters again"
      ],
      "metadata": {
        "id": "zFWJK6oruy3M"
      }
    },
    {
      "cell_type": "code",
      "source": [
        "Model2_1 = Sequential([\n",
        "        Dense(units=64, input_shape=(60,),activation='relu'),\n",
        "        Dense(units=16,activation='relu'),\n",
        "        Dense(units=1,activation='linear')\n",
        "    ])\n",
        "Model2_1.summary()"
      ],
      "metadata": {
        "colab": {
          "base_uri": "https://localhost:8080/"
        },
        "id": "J2-UW_rfuv3c",
        "outputId": "92287518-8cbe-451e-8d88-7d4481e2bc6b"
      },
      "execution_count": null,
      "outputs": [
        {
          "output_type": "stream",
          "name": "stdout",
          "text": [
            "Model: \"sequential_18\"\n",
            "_________________________________________________________________\n",
            " Layer (type)                Output Shape              Param #   \n",
            "=================================================================\n",
            " dense_44 (Dense)            (None, 64)                3904      \n",
            "                                                                 \n",
            " dense_45 (Dense)            (None, 16)                1040      \n",
            "                                                                 \n",
            " dense_46 (Dense)            (None, 1)                 17        \n",
            "                                                                 \n",
            "=================================================================\n",
            "Total params: 4,961\n",
            "Trainable params: 4,961\n",
            "Non-trainable params: 0\n",
            "_________________________________________________________________\n"
          ]
        }
      ]
    },
    {
      "cell_type": "code",
      "source": [
        "Model2_1.compile(optimizer='adam',\n",
        "                loss='mean_squared_error')\n",
        "es = EarlyStopping(monitor='loss', verbose=1, patience=25)\n",
        "\n",
        "Model2_1.fit(x_train, y_train, epochs=1000,verbose=0, callbacks=[es])"
      ],
      "metadata": {
        "colab": {
          "base_uri": "https://localhost:8080/"
        },
        "id": "_Ybm83oBu_m_",
        "outputId": "13f3a676-8106-48f6-b425-079a52503981"
      },
      "execution_count": null,
      "outputs": [
        {
          "output_type": "stream",
          "name": "stdout",
          "text": [
            "Epoch 167: early stopping\n"
          ]
        },
        {
          "output_type": "execute_result",
          "data": {
            "text/plain": [
              "<keras.callbacks.History at 0x7fea66b86690>"
            ]
          },
          "metadata": {},
          "execution_count": 105
        }
      ]
    },
    {
      "cell_type": "code",
      "source": [
        "y_pred = Model2_1.predict(X_test)\n",
        "y_pred = sc.inverse_transform(y_pred)\n",
        "plt.plot(test, color='red',label='Real IBM Stock Price')\n",
        "plt.plot(y_pred, color='blue',label='Predicted IBM Stock Price')\n",
        "plt.title('IBM Stock Price Prediction')\n",
        "plt.xlabel('Time')\n",
        "plt.ylabel('IBM Stock Price')\n",
        "plt.legend()\n",
        "plt.show()\n",
        "rmse = math.sqrt(mean_squared_error(test, y_pred))\n",
        "print(\"The root mean squared error is {}.\".format(rmse))"
      ],
      "metadata": {
        "colab": {
          "base_uri": "https://localhost:8080/",
          "height": 330
        },
        "id": "7extvKZWu_jl",
        "outputId": "7309cbe8-9475-4a74-d2fb-9ef36055fe87"
      },
      "execution_count": null,
      "outputs": [
        {
          "output_type": "stream",
          "name": "stdout",
          "text": [
            "8/8 [==============================] - 0s 2ms/step\n"
          ]
        },
        {
          "output_type": "display_data",
          "data": {
            "text/plain": [
              "<Figure size 432x288 with 1 Axes>"
            ],
            "image/png": "[encoded data removed]"
          },
          "metadata": {
            "needs_background": "light"
          }
        },
        {
          "output_type": "stream",
          "name": "stdout",
          "text": [
            "The root mean squared error is 1.8120427068293363.\n"
          ]
        }
      ]
    },
    {
      "cell_type": "code",
      "source": [
        "Model2_2 = Sequential([\n",
        "        Dense(units=64, input_shape=(60,),activation='relu'),\n",
        "        Dense(units=32,activation='relu'),\n",
        "        Dense(units=1,activation='linear')\n",
        "    ])\n",
        "Model2_2.summary()"
      ],
      "metadata": {
        "colab": {
          "base_uri": "https://localhost:8080/"
        },
        "id": "BjM5THygP3Db",
        "outputId": "3dd71cc0-c456-4bd6-f5dc-39ce7b3d7aa5"
      },
      "execution_count": null,
      "outputs": [
        {
          "output_type": "stream",
          "name": "stdout",
          "text": [
            "Model: \"sequential_39\"\n",
            "_________________________________________________________________\n",
            " Layer (type)                Output Shape              Param #   \n",
            "=================================================================\n",
            " dense_107 (Dense)           (None, 64)                3904      \n",
            "                                                                 \n",
            " dense_108 (Dense)           (None, 32)                2080      \n",
            "                                                                 \n",
            " dense_109 (Dense)           (None, 1)                 33        \n",
            "                                                                 \n",
            "=================================================================\n",
            "Total params: 6,017\n",
            "Trainable params: 6,017\n",
            "Non-trainable params: 0\n",
            "_________________________________________________________________\n"
          ]
        }
      ]
    },
    {
      "cell_type": "code",
      "source": [
        "Model2_2.compile(optimizer='adam',\n",
        "                loss='mean_squared_error')\n",
        "es = EarlyStopping(monitor='loss', verbose=1, patience=25)\n",
        "\n",
        "Model2_2.fit(x_train, y_train, epochs=1000,verbose=0, callbacks=[es])"
      ],
      "metadata": {
        "colab": {
          "base_uri": "https://localhost:8080/"
        },
        "id": "_xe758m6P5HL",
        "outputId": "57d3401c-da5d-43a6-c9a1-760558d66e96"
      },
      "execution_count": null,
      "outputs": [
        {
          "output_type": "stream",
          "name": "stdout",
          "text": [
            "Epoch 67: early stopping\n"
          ]
        },
        {
          "output_type": "execute_result",
          "data": {
            "text/plain": [
              "<keras.callbacks.History at 0x7fea65c5c050>"
            ]
          },
          "metadata": {},
          "execution_count": 204
        }
      ]
    },
    {
      "cell_type": "code",
      "source": [
        "y_pred = Model2_2.predict(X_test)\n",
        "y_pred = sc.inverse_transform(y_pred)\n",
        "plt.plot(test, color='red',label='Real IBM Stock Price')\n",
        "plt.plot(y_pred, color='blue',label='Predicted IBM Stock Price')\n",
        "plt.title('IBM Stock Price Prediction')\n",
        "plt.xlabel('Time')\n",
        "plt.ylabel('IBM Stock Price')\n",
        "plt.legend()\n",
        "plt.show()\n",
        "rmse = math.sqrt(mean_squared_error(test, y_pred))\n",
        "print(\"The root mean squared error is {}.\".format(rmse))"
      ],
      "metadata": {
        "colab": {
          "base_uri": "https://localhost:8080/",
          "height": 330
        },
        "id": "RE11T9pDP5DD",
        "outputId": "83f080c4-fbaf-4848-ceac-506efde640b2"
      },
      "execution_count": null,
      "outputs": [
        {
          "output_type": "stream",
          "name": "stdout",
          "text": [
            "8/8 [==============================] - 0s 2ms/step\n"
          ]
        },
        {
          "output_type": "display_data",
          "data": {
            "text/plain": [
              "<Figure size 432x288 with 1 Axes>"
            ],
            "image/png": "[encoded data removed]"
          },
          "metadata": {
            "needs_background": "light"
          }
        },
        {
          "output_type": "stream",
          "name": "stdout",
          "text": [
            "The root mean squared error is 1.821500074182721.\n"
          ]
        }
      ]
    },
    {
      "cell_type": "markdown",
      "source": [
        "#Model3"
      ],
      "metadata": {
        "id": "wdY8cixEQVTc"
      }
    },
    {
      "cell_type": "code",
      "source": [
        "Model3 = Sequential([\n",
        "        Dense(units=64, input_shape=(60,),activation='relu'),\n",
        "        Dense(units=8,activation='relu'),\n",
        "        Dense(units=8,activation='relu'),\n",
        "        Dense(units=1,activation='linear')\n",
        "    ])\n",
        "Model3.summary()"
      ],
      "metadata": {
        "colab": {
          "base_uri": "https://localhost:8080/"
        },
        "outputId": "e8e0ecd0-d1d4-43f0-c71a-e52c7f8e6c11",
        "id": "fXfFEzkCQbyF"
      },
      "execution_count": null,
      "outputs": [
        {
          "output_type": "stream",
          "name": "stdout",
          "text": [
            "Model: \"sequential_41\"\n",
            "_________________________________________________________________\n",
            " Layer (type)                Output Shape              Param #   \n",
            "=================================================================\n",
            " dense_114 (Dense)           (None, 64)                3904      \n",
            "                                                                 \n",
            " dense_115 (Dense)           (None, 8)                 520       \n",
            "                                                                 \n",
            " dense_116 (Dense)           (None, 8)                 72        \n",
            "                                                                 \n",
            " dense_117 (Dense)           (None, 1)                 9         \n",
            "                                                                 \n",
            "=================================================================\n",
            "Total params: 4,505\n",
            "Trainable params: 4,505\n",
            "Non-trainable params: 0\n",
            "_________________________________________________________________\n"
          ]
        }
      ]
    },
    {
      "cell_type": "code",
      "source": [
        "Model3.compile(optimizer='adam',\n",
        "                loss='mean_squared_error')\n",
        "es = EarlyStopping(monitor='loss', verbose=1, patience=25)\n",
        "\n",
        "Model3.fit(x_train, y_train, epochs=1000,verbose=0, callbacks=[es])"
      ],
      "metadata": {
        "colab": {
          "base_uri": "https://localhost:8080/"
        },
        "outputId": "e1cf9cfa-91d6-4694-f680-437167460395",
        "id": "I_WNcwBvQbyG"
      },
      "execution_count": null,
      "outputs": [
        {
          "output_type": "stream",
          "name": "stdout",
          "text": [
            "Epoch 89: early stopping\n"
          ]
        },
        {
          "output_type": "execute_result",
          "data": {
            "text/plain": [
              "<keras.callbacks.History at 0x7fea54622050>"
            ]
          },
          "metadata": {},
          "execution_count": 210
        }
      ]
    },
    {
      "cell_type": "code",
      "source": [
        "y_pred = Model3.predict(X_test)\n",
        "y_pred = sc.inverse_transform(y_pred)\n",
        "plt.plot(test, color='red',label='Real IBM Stock Price')\n",
        "plt.plot(y_pred, color='blue',label='Predicted IBM Stock Price')\n",
        "plt.title('IBM Stock Price Prediction')\n",
        "plt.xlabel('Time')\n",
        "plt.ylabel('IBM Stock Price')\n",
        "plt.legend()\n",
        "plt.show()\n",
        "rmse = math.sqrt(mean_squared_error(test, y_pred))\n",
        "print(\"The root mean squared error is {}.\".format(rmse))"
      ],
      "metadata": {
        "colab": {
          "base_uri": "https://localhost:8080/",
          "height": 330
        },
        "outputId": "bb524787-4144-4cc0-df1f-df3e41d84857",
        "id": "EsnCDs_wQbyG"
      },
      "execution_count": null,
      "outputs": [
        {
          "output_type": "stream",
          "name": "stdout",
          "text": [
            "8/8 [==============================] - 0s 2ms/step\n"
          ]
        },
        {
          "output_type": "display_data",
          "data": {
            "text/plain": [
              "<Figure size 432x288 with 1 Axes>"
            ],
            "image/png": "[encoded data removed]"
          },
          "metadata": {
            "needs_background": "light"
          }
        },
        {
          "output_type": "stream",
          "name": "stdout",
          "text": [
            "The root mean squared error is 2.0484657339528587.\n"
          ]
        }
      ]
    },
    {
      "cell_type": "markdown",
      "source": [
        "it's no longer improving so we'll stop the experimenting here"
      ],
      "metadata": {
        "id": "u3BNxOr6wI2d"
      }
    },
    {
      "cell_type": "markdown",
      "source": [
        "#weight initializers\n",
        "now using the model we'll doing further experimentaion with weight initializers\n",
        "zeros, ones, random normal, he normal, glorot normal"
      ],
      "metadata": {
        "id": "QoI6jOCr9XJT"
      }
    },
    {
      "cell_type": "code",
      "source": [
        "def train_in_H1(ini):\n",
        "    \n",
        "   model = Sequential([\n",
        "        Dense(units=64, input_shape=(60,),activation='relu',kernel_initializer=ini),\n",
        "        Dense(units=8,activation='relu',kernel_initializer=ini),\n",
        "        Dense(units=1,activation='linear',kernel_initializer=ini)\n",
        "    ])\n",
        "\n",
        "   model.compile(optimizer='adam',\n",
        "                loss='mean_squared_error')\n",
        "    \n",
        "   return model "
      ],
      "metadata": {
        "id": "TJ2QaeHo9WD_"
      },
      "execution_count": null,
      "outputs": []
    },
    {
      "cell_type": "code",
      "source": [
        "model_1 = train_in_H1('zeros')\n",
        "model_1.summary()"
      ],
      "metadata": {
        "colab": {
          "base_uri": "https://localhost:8080/"
        },
        "outputId": "63f55b13-dfd3-4fc1-b4e6-f865192285bb",
        "id": "M_bgY6JJuqPY"
      },
      "execution_count": null,
      "outputs": [
        {
          "output_type": "stream",
          "name": "stdout",
          "text": [
            "Model: \"sequential_33\"\n",
            "_________________________________________________________________\n",
            " Layer (type)                Output Shape              Param #   \n",
            "=================================================================\n",
            " dense_89 (Dense)            (None, 64)                3904      \n",
            "                                                                 \n",
            " dense_90 (Dense)            (None, 8)                 520       \n",
            "                                                                 \n",
            " dense_91 (Dense)            (None, 1)                 9         \n",
            "                                                                 \n",
            "=================================================================\n",
            "Total params: 4,433\n",
            "Trainable params: 4,433\n",
            "Non-trainable params: 0\n",
            "_________________________________________________________________\n"
          ]
        }
      ]
    },
    {
      "cell_type": "code",
      "source": [
        "es = EarlyStopping(monitor='loss', verbose=1, patience=25)\n",
        "\n",
        "model_1.fit(x_train, y_train, epochs=1000,verbose=0, callbacks=[es])"
      ],
      "metadata": {
        "colab": {
          "base_uri": "https://localhost:8080/"
        },
        "outputId": "0a262b7e-1183-4f0f-8b6b-cc0df523d6d0",
        "id": "awZk2zURuqPZ"
      },
      "execution_count": null,
      "outputs": [
        {
          "output_type": "stream",
          "name": "stdout",
          "text": [
            "Epoch 44: early stopping\n"
          ]
        },
        {
          "output_type": "execute_result",
          "data": {
            "text/plain": [
              "<keras.callbacks.History at 0x7fea552420d0>"
            ]
          },
          "metadata": {},
          "execution_count": 183
        }
      ]
    },
    {
      "cell_type": "code",
      "source": [
        "y_pred = model_1.predict(X_test)\n",
        "y_pred = sc.inverse_transform(y_pred)\n",
        "plt.plot(test, color='red',label='Real IBM Stock Price')\n",
        "plt.plot(y_pred, color='blue',label='Predicted IBM Stock Price')\n",
        "plt.title('IBM Stock Price Prediction')\n",
        "plt.xlabel('Time')\n",
        "plt.ylabel('IBM Stock Price')\n",
        "plt.legend()\n",
        "plt.show()\n",
        "rmse = math.sqrt(mean_squared_error(test, y_pred))\n",
        "print(\"The root mean squared error is {}.\".format(rmse))"
      ],
      "metadata": {
        "colab": {
          "base_uri": "https://localhost:8080/",
          "height": 330
        },
        "outputId": "3b178669-22f2-4c63-800b-17ac62cbb5a0",
        "id": "4btXj12muqPZ"
      },
      "execution_count": null,
      "outputs": [
        {
          "output_type": "stream",
          "name": "stdout",
          "text": [
            "8/8 [==============================] - 0s 2ms/step\n"
          ]
        },
        {
          "output_type": "display_data",
          "data": {
            "text/plain": [
              "<Figure size 432x288 with 1 Axes>"
            ],
            "image/png": "[encoded data removed]"
          },
          "metadata": {
            "needs_background": "light"
          }
        },
        {
          "output_type": "stream",
          "name": "stdout",
          "text": [
            "The root mean squared error is 16.57223159306657.\n"
          ]
        }
      ]
    },
    {
      "cell_type": "markdown",
      "source": [
        "No change"
      ],
      "metadata": {
        "id": "su0dJqBKvGVI"
      }
    },
    {
      "cell_type": "code",
      "source": [
        "model_2 = train_in_H1('ones')\n",
        "model_2.summary()"
      ],
      "metadata": {
        "colab": {
          "base_uri": "https://localhost:8080/"
        },
        "outputId": "0dd972ab-baab-430b-c782-8df2aa3e6e1a",
        "id": "XP-chfS4vMH0"
      },
      "execution_count": null,
      "outputs": [
        {
          "output_type": "stream",
          "name": "stdout",
          "text": [
            "Model: \"sequential\"\n",
            "_________________________________________________________________\n",
            " Layer (type)                Output Shape              Param #   \n",
            "=================================================================\n",
            " dense (Dense)               (None, 64)                3904      \n",
            "                                                                 \n",
            " dense_1 (Dense)             (None, 8)                 520       \n",
            "                                                                 \n",
            " dense_2 (Dense)             (None, 1)                 9         \n",
            "                                                                 \n",
            "=================================================================\n",
            "Total params: 4,433\n",
            "Trainable params: 4,433\n",
            "Non-trainable params: 0\n",
            "_________________________________________________________________\n"
          ]
        }
      ]
    },
    {
      "cell_type": "code",
      "source": [
        "es = EarlyStopping(monitor='loss', verbose=1, patience=25)\n",
        "\n",
        "model_2.fit(x_train, y_train, epochs=1000,verbose=0, callbacks=[es])"
      ],
      "metadata": {
        "colab": {
          "base_uri": "https://localhost:8080/"
        },
        "outputId": "b4d47340-41bd-4234-8fb5-7f8b32ff03f9",
        "id": "MtvKqHDcvMH1"
      },
      "execution_count": null,
      "outputs": [
        {
          "output_type": "stream",
          "name": "stdout",
          "text": [
            "Epoch 391: early stopping\n"
          ]
        },
        {
          "output_type": "execute_result",
          "data": {
            "text/plain": [
              "<keras.callbacks.History at 0x7ff541ed71d0>"
            ]
          },
          "metadata": {},
          "execution_count": 31
        }
      ]
    },
    {
      "cell_type": "code",
      "source": [
        "y_pred = model_2.predict(X_test)\n",
        "y_pred = sc.inverse_transform(y_pred)\n",
        "plt.plot(test, color='red',label='Real IBM Stock Price')\n",
        "plt.plot(y_pred, color='blue',label='Predicted IBM Stock Price')\n",
        "plt.title('IBM Stock Price Prediction')\n",
        "plt.xlabel('Time')\n",
        "plt.ylabel('IBM Stock Price')\n",
        "plt.legend()\n",
        "plt.show()\n",
        "rmse = math.sqrt(mean_squared_error(test, y_pred))\n",
        "print(\"The root mean squared error is {}.\".format(rmse))"
      ],
      "metadata": {
        "colab": {
          "base_uri": "https://localhost:8080/",
          "height": 330
        },
        "outputId": "101d0d9c-7053-4910-833a-e99acab37177",
        "id": "XXDR06vQvMH1"
      },
      "execution_count": null,
      "outputs": [
        {
          "output_type": "stream",
          "name": "stdout",
          "text": [
            "8/8 [==============================] - 0s 2ms/step\n"
          ]
        },
        {
          "output_type": "display_data",
          "data": {
            "text/plain": [
              "<Figure size 432x288 with 1 Axes>"
            ],
            "image/png": "[encoded data removed]"
          },
          "metadata": {
            "needs_background": "light"
          }
        },
        {
          "output_type": "stream",
          "name": "stdout",
          "text": [
            "The root mean squared error is 16.54458207372766.\n"
          ]
        }
      ]
    },
    {
      "cell_type": "code",
      "source": [
        "model_3 = train_in_H1('RandomNormal')\n",
        "model_3.summary()"
      ],
      "metadata": {
        "colab": {
          "base_uri": "https://localhost:8080/"
        },
        "id": "mh02Wp7vsGgR",
        "outputId": "be735093-5070-4b4b-b4e8-e90374d46c6a"
      },
      "execution_count": null,
      "outputs": [
        {
          "output_type": "stream",
          "name": "stdout",
          "text": [
            "Model: \"sequential_35\"\n",
            "_________________________________________________________________\n",
            " Layer (type)                Output Shape              Param #   \n",
            "=================================================================\n",
            " dense_95 (Dense)            (None, 64)                3904      \n",
            "                                                                 \n",
            " dense_96 (Dense)            (None, 8)                 520       \n",
            "                                                                 \n",
            " dense_97 (Dense)            (None, 1)                 9         \n",
            "                                                                 \n",
            "=================================================================\n",
            "Total params: 4,433\n",
            "Trainable params: 4,433\n",
            "Non-trainable params: 0\n",
            "_________________________________________________________________\n"
          ]
        }
      ]
    },
    {
      "cell_type": "code",
      "source": [
        "es = EarlyStopping(monitor='loss', verbose=1, patience=25)\n",
        "\n",
        "model_3.fit(x_train, y_train, epochs=1000,verbose=0, callbacks=[es])"
      ],
      "metadata": {
        "colab": {
          "base_uri": "https://localhost:8080/"
        },
        "id": "qb3M1kgIwrFL",
        "outputId": "23080361-6173-4d6b-c796-1819375bdb87"
      },
      "execution_count": null,
      "outputs": [
        {
          "output_type": "stream",
          "name": "stdout",
          "text": [
            "Epoch 182: early stopping\n"
          ]
        },
        {
          "output_type": "execute_result",
          "data": {
            "text/plain": [
              "<keras.callbacks.History at 0x7fea72330e50>"
            ]
          },
          "metadata": {},
          "execution_count": 189
        }
      ]
    },
    {
      "cell_type": "code",
      "source": [
        "y_pred = model_3.predict(X_test)\n",
        "y_pred = sc.inverse_transform(y_pred)\n",
        "plt.plot(test, color='red',label='Real IBM Stock Price')\n",
        "plt.plot(y_pred, color='blue',label='Predicted IBM Stock Price')\n",
        "plt.title('IBM Stock Price Prediction')\n",
        "plt.xlabel('Time')\n",
        "plt.ylabel('IBM Stock Price')\n",
        "plt.legend()\n",
        "plt.show()\n",
        "rmse = math.sqrt(mean_squared_error(test, y_pred))\n",
        "print(\"The root mean squared error is {}.\".format(rmse))"
      ],
      "metadata": {
        "colab": {
          "base_uri": "https://localhost:8080/",
          "height": 330
        },
        "id": "aELkjtSvwrCL",
        "outputId": "b94cf07f-52c9-450e-862d-886ed332eb73"
      },
      "execution_count": null,
      "outputs": [
        {
          "output_type": "stream",
          "name": "stdout",
          "text": [
            "8/8 [==============================] - 0s 2ms/step\n"
          ]
        },
        {
          "output_type": "display_data",
          "data": {
            "text/plain": [
              "<Figure size 432x288 with 1 Axes>"
            ],
            "image/png": "[encoded data removed]"
          },
          "metadata": {
            "needs_background": "light"
          }
        },
        {
          "output_type": "stream",
          "name": "stdout",
          "text": [
            "The root mean squared error is 1.8572709955554398.\n"
          ]
        }
      ]
    },
    {
      "cell_type": "markdown",
      "source": [
        "did better than one but not better than the default (glorot_uniform)"
      ],
      "metadata": {
        "id": "HQzSKMI5xAvk"
      }
    },
    {
      "cell_type": "code",
      "source": [
        "model_4 = train_in_H1('he_normal')\n",
        "model_4.summary()"
      ],
      "metadata": {
        "colab": {
          "base_uri": "https://localhost:8080/"
        },
        "outputId": "4d185770-29e2-4f81-9907-0cc151a739ac",
        "id": "lAOV_sPWxKQo"
      },
      "execution_count": null,
      "outputs": [
        {
          "output_type": "stream",
          "name": "stdout",
          "text": [
            "Model: \"sequential_6\"\n",
            "_________________________________________________________________\n",
            " Layer (type)                Output Shape              Param #   \n",
            "=================================================================\n",
            " dense_16 (Dense)            (None, 64)                3904      \n",
            "                                                                 \n",
            " dense_17 (Dense)            (None, 8)                 520       \n",
            "                                                                 \n",
            " dense_18 (Dense)            (None, 1)                 9         \n",
            "                                                                 \n",
            "=================================================================\n",
            "Total params: 4,433\n",
            "Trainable params: 4,433\n",
            "Non-trainable params: 0\n",
            "_________________________________________________________________\n"
          ]
        }
      ]
    },
    {
      "cell_type": "code",
      "source": [
        "es = EarlyStopping(monitor='loss', verbose=1, patience=25)\n",
        "\n",
        "model_4.fit(x_train, y_train, epochs=1000,verbose=0, callbacks=[es])"
      ],
      "metadata": {
        "colab": {
          "base_uri": "https://localhost:8080/"
        },
        "outputId": "53f38221-6e3a-41d1-a91b-9f46aa6aa268",
        "id": "BFM3ea4PxKQp"
      },
      "execution_count": null,
      "outputs": [
        {
          "output_type": "stream",
          "name": "stdout",
          "text": [
            "Epoch 177: early stopping\n"
          ]
        },
        {
          "output_type": "execute_result",
          "data": {
            "text/plain": [
              "<keras.callbacks.History at 0x7ff541884590>"
            ]
          },
          "metadata": {},
          "execution_count": 49
        }
      ]
    },
    {
      "cell_type": "code",
      "source": [
        "y_pred = model_4.predict(X_test)\n",
        "y_pred = sc.inverse_transform(y_pred)\n",
        "plt.plot(test, color='red',label='Real IBM Stock Price')\n",
        "plt.plot(y_pred, color='blue',label='Predicted IBM Stock Price')\n",
        "plt.title('IBM Stock Price Prediction')\n",
        "plt.xlabel('Time')\n",
        "plt.ylabel('IBM Stock Price')\n",
        "plt.legend()\n",
        "plt.show()\n",
        "rmse = math.sqrt(mean_squared_error(test, y_pred))\n",
        "print(\"The root mean squared error is {}.\".format(rmse))"
      ],
      "metadata": {
        "colab": {
          "base_uri": "https://localhost:8080/",
          "height": 330
        },
        "outputId": "3a036d7b-2489-4021-a69e-e52b58df3b52",
        "id": "L3EkYVxlxKQp"
      },
      "execution_count": null,
      "outputs": [
        {
          "output_type": "stream",
          "name": "stdout",
          "text": [
            "8/8 [==============================] - 0s 2ms/step\n"
          ]
        },
        {
          "output_type": "display_data",
          "data": {
            "text/plain": [
              "<Figure size 432x288 with 1 Axes>"
            ],
            "image/png": "[encoded data removed]"
          },
          "metadata": {
            "needs_background": "light"
          }
        },
        {
          "output_type": "stream",
          "name": "stdout",
          "text": [
            "The root mean squared error is 2.034002462016471.\n"
          ]
        }
      ]
    },
    {
      "cell_type": "markdown",
      "source": [],
      "metadata": {
        "id": "e0BFiAHOxqES"
      }
    },
    {
      "cell_type": "code",
      "source": [
        "model_5 = train_in_H1('glorot_normal')\n",
        "model_5.summary()"
      ],
      "metadata": {
        "colab": {
          "base_uri": "https://localhost:8080/"
        },
        "outputId": "86478c33-76c7-4560-df57-8d085a5360b9",
        "id": "6tysyqbTxKgL"
      },
      "execution_count": null,
      "outputs": [
        {
          "output_type": "stream",
          "name": "stdout",
          "text": [
            "Model: \"sequential_37\"\n",
            "_________________________________________________________________\n",
            " Layer (type)                Output Shape              Param #   \n",
            "=================================================================\n",
            " dense_101 (Dense)           (None, 64)                3904      \n",
            "                                                                 \n",
            " dense_102 (Dense)           (None, 8)                 520       \n",
            "                                                                 \n",
            " dense_103 (Dense)           (None, 1)                 9         \n",
            "                                                                 \n",
            "=================================================================\n",
            "Total params: 4,433\n",
            "Trainable params: 4,433\n",
            "Non-trainable params: 0\n",
            "_________________________________________________________________\n"
          ]
        }
      ]
    },
    {
      "cell_type": "code",
      "source": [
        "es = EarlyStopping(monitor='loss', verbose=1, patience=25)\n",
        "\n",
        "model_5.fit(x_train, y_train, epochs=1000,verbose=0, callbacks=[es])"
      ],
      "metadata": {
        "colab": {
          "base_uri": "https://localhost:8080/"
        },
        "outputId": "ea830767-aa99-4e85-e1f4-f96e9c3e955a",
        "id": "EkiUpx5yxKgM"
      },
      "execution_count": null,
      "outputs": [
        {
          "output_type": "stream",
          "name": "stdout",
          "text": [
            "Epoch 107: early stopping\n"
          ]
        },
        {
          "output_type": "execute_result",
          "data": {
            "text/plain": [
              "<keras.callbacks.History at 0x7fea71e77090>"
            ]
          },
          "metadata": {},
          "execution_count": 195
        }
      ]
    },
    {
      "cell_type": "code",
      "source": [
        "y_pred = model_5.predict(X_test)\n",
        "y_pred = sc.inverse_transform(y_pred)\n",
        "plt.plot(test, color='red',label='Real IBM Stock Price')\n",
        "plt.plot(y_pred, color='blue',label='Predicted IBM Stock Price')\n",
        "plt.title('IBM Stock Price Prediction')\n",
        "plt.xlabel('Time')\n",
        "plt.ylabel('IBM Stock Price')\n",
        "plt.legend()\n",
        "plt.show()\n",
        "rmse = math.sqrt(mean_squared_error(test, y_pred))\n",
        "print(\"The root mean squared error is {}.\".format(rmse))"
      ],
      "metadata": {
        "colab": {
          "base_uri": "https://localhost:8080/",
          "height": 330
        },
        "outputId": "837f5a38-a21b-4f97-8540-cae5d72d6bdf",
        "id": "vgqGMlCGxKgM"
      },
      "execution_count": null,
      "outputs": [
        {
          "output_type": "stream",
          "name": "stdout",
          "text": [
            "8/8 [==============================] - 0s 2ms/step\n"
          ]
        },
        {
          "output_type": "display_data",
          "data": {
            "text/plain": [
              "<Figure size 432x288 with 1 Axes>"
            ],
            "image/png": "[encoded data removed]"
          },
          "metadata": {
            "needs_background": "light"
          }
        },
        {
          "output_type": "stream",
          "name": "stdout",
          "text": [
            "The root mean squared error is 2.226744280319312.\n"
          ]
        }
      ]
    },
    {
      "cell_type": "markdown",
      "source": [
        "None of them beat the default model"
      ],
      "metadata": {
        "id": "9YSHtMcbx2pD"
      }
    },
    {
      "cell_type": "markdown",
      "source": [
        "#final Stage\n",
        "here we will try different patience\n",
        "we will start with 50 and keep adding 50 then 100 to then 200"
      ],
      "metadata": {
        "id": "AwUAaJ374MnB"
      }
    },
    {
      "cell_type": "code",
      "source": [
        "modelFinal = Sequential([\n",
        "        Dense(units=64, input_shape=(60,),activation='relu'),\n",
        "        Dense(units=8,activation='relu'),\n",
        "        Dense(units=1,activation='linear')\n",
        "    ])\n",
        "\n",
        "modelFinal.compile(optimizer='adam',\n",
        "            loss='mean_squared_error')"
      ],
      "metadata": {
        "id": "jk2EnaxF4L1B"
      },
      "execution_count": null,
      "outputs": []
    },
    {
      "cell_type": "code",
      "source": [
        "es = EarlyStopping(monitor='loss', verbose=1, patience=50)\n",
        "\n",
        "modelFinal.fit(x_train, y_train, epochs=1000,verbose=0, callbacks=[es])"
      ],
      "metadata": {
        "colab": {
          "base_uri": "https://localhost:8080/"
        },
        "id": "J5kw3vPc4eH5",
        "outputId": "bafa52ed-50c8-4c40-83c6-e88825949693"
      },
      "execution_count": null,
      "outputs": [
        {
          "output_type": "stream",
          "name": "stdout",
          "text": [
            "Epoch 324: early stopping\n"
          ]
        },
        {
          "output_type": "execute_result",
          "data": {
            "text/plain": [
              "<keras.callbacks.History at 0x7ff531d20f90>"
            ]
          },
          "metadata": {},
          "execution_count": 69
        }
      ]
    },
    {
      "cell_type": "code",
      "source": [
        "y_pred = modelFinal.predict(X_test)\n",
        "y_pred = sc.inverse_transform(y_pred)\n",
        "plt.plot(test, color='red',label='Real IBM Stock Price')\n",
        "plt.plot(y_pred, color='blue',label='Predicted IBM Stock Price')\n",
        "plt.title('IBM Stock Price Prediction')\n",
        "plt.xlabel('Time')\n",
        "plt.ylabel('IBM Stock Price')\n",
        "plt.legend()\n",
        "plt.show()\n",
        "rmse = math.sqrt(mean_squared_error(test, y_pred))\n",
        "print(\"The root mean squared error is {}.\".format(rmse))"
      ],
      "metadata": {
        "colab": {
          "base_uri": "https://localhost:8080/",
          "height": 330
        },
        "id": "tE7f71Hu4n6C",
        "outputId": "dfaf123b-ca79-401e-f74e-445a2b772fd3"
      },
      "execution_count": null,
      "outputs": [
        {
          "output_type": "stream",
          "name": "stdout",
          "text": [
            "8/8 [==============================] - 0s 2ms/step\n"
          ]
        },
        {
          "output_type": "display_data",
          "data": {
            "text/plain": [
              "<Figure size 432x288 with 1 Axes>"
            ],
            "image/png": "[encoded data removed]"
          },
          "metadata": {
            "needs_background": "light"
          }
        },
        {
          "output_type": "stream",
          "name": "stdout",
          "text": [
            "The root mean squared error is 1.6040706662976383.\n"
          ]
        }
      ]
    },
    {
      "cell_type": "code",
      "source": [
        "modelFinal2 = Sequential([\n",
        "        Dense(units=64, input_shape=(60,),activation='relu'),\n",
        "        Dense(units=8,activation='relu'),\n",
        "        Dense(units=1,activation='linear')\n",
        "    ])\n",
        "\n",
        "modelFinal2.compile(optimizer='adam',\n",
        "            loss='mean_squared_error')"
      ],
      "metadata": {
        "id": "18ET_z9U5Pou"
      },
      "execution_count": null,
      "outputs": []
    },
    {
      "cell_type": "code",
      "source": [
        "es = EarlyStopping(monitor='loss', verbose=1, patience=100)\n",
        "\n",
        "modelFinal2.fit(x_train, y_train, epochs=1000,verbose=0, callbacks=[es])"
      ],
      "metadata": {
        "colab": {
          "base_uri": "https://localhost:8080/"
        },
        "outputId": "dd1641d6-5a56-4fad-d561-7a1dca4bf94c",
        "id": "9KNlTWEZ5Pou"
      },
      "execution_count": null,
      "outputs": [
        {
          "output_type": "stream",
          "name": "stdout",
          "text": [
            "Epoch 373: early stopping\n"
          ]
        },
        {
          "output_type": "execute_result",
          "data": {
            "text/plain": [
              "<keras.callbacks.History at 0x7ff5326f3c90>"
            ]
          },
          "metadata": {},
          "execution_count": 65
        }
      ]
    },
    {
      "cell_type": "code",
      "source": [
        "y_pred = modelFinal2.predict(X_test)\n",
        "y_pred = sc.inverse_transform(y_pred)\n",
        "plt.plot(test, color='red',label='Real IBM Stock Price')\n",
        "plt.plot(y_pred, color='blue',label='Predicted IBM Stock Price')\n",
        "plt.title('IBM Stock Price Prediction')\n",
        "plt.xlabel('Time')\n",
        "plt.ylabel('IBM Stock Price')\n",
        "plt.legend()\n",
        "plt.show()\n",
        "rmse = math.sqrt(mean_squared_error(test, y_pred))\n",
        "print(\"The root mean squared error is {}.\".format(rmse))"
      ],
      "metadata": {
        "colab": {
          "base_uri": "https://localhost:8080/",
          "height": 330
        },
        "outputId": "6380bba1-56f0-4b41-e969-6db2a1d71210",
        "id": "gYifbGmE5Pov"
      },
      "execution_count": null,
      "outputs": [
        {
          "output_type": "stream",
          "name": "stdout",
          "text": [
            "8/8 [==============================] - 0s 2ms/step\n"
          ]
        },
        {
          "output_type": "display_data",
          "data": {
            "text/plain": [
              "<Figure size 432x288 with 1 Axes>"
            ],
            "image/png": "[encoded data removed]"
          },
          "metadata": {
            "needs_background": "light"
          }
        },
        {
          "output_type": "stream",
          "name": "stdout",
          "text": [
            "The root mean squared error is 1.6294780914607971.\n"
          ]
        }
      ]
    },
    {
      "cell_type": "code",
      "source": [
        "modelFinal3 = Sequential([\n",
        "        Dense(units=64, input_shape=(60,),activation='relu'),\n",
        "        Dense(units=8,activation='relu'),\n",
        "        Dense(units=1,activation='linear')\n",
        "    ])\n",
        "\n",
        "modelFinal3.compile(optimizer='adam',\n",
        "            loss='mean_squared_error')"
      ],
      "metadata": {
        "id": "gM-D0D7h68j_"
      },
      "execution_count": null,
      "outputs": []
    },
    {
      "cell_type": "code",
      "source": [
        "es = EarlyStopping(monitor='loss', verbose=1, patience=200)\n",
        "\n",
        "modelFinal3.fit(x_train, y_train, epochs=1000,verbose=0, callbacks=[es])"
      ],
      "metadata": {
        "colab": {
          "base_uri": "https://localhost:8080/"
        },
        "outputId": "9302c14f-188a-4b82-a6f0-1a06f49d19b8",
        "id": "syT9lGmL68j_"
      },
      "execution_count": null,
      "outputs": [
        {
          "output_type": "execute_result",
          "data": {
            "text/plain": [
              "<keras.callbacks.History at 0x7ff534f4bcd0>"
            ]
          },
          "metadata": {},
          "execution_count": 72
        }
      ]
    },
    {
      "cell_type": "code",
      "source": [
        "y_pred = modelFinal3.predict(X_test)\n",
        "y_pred = sc.inverse_transform(y_pred)\n",
        "plt.plot(test, color='red',label='Real IBM Stock Price')\n",
        "plt.plot(y_pred, color='blue',label='Predicted IBM Stock Price')\n",
        "plt.title('IBM Stock Price Prediction')\n",
        "plt.xlabel('Time')\n",
        "plt.ylabel('IBM Stock Price')\n",
        "plt.legend()\n",
        "plt.show()\n",
        "rmse = math.sqrt(mean_squared_error(test, y_pred))\n",
        "print(\"The root mean squared error is {}.\".format(rmse))"
      ],
      "metadata": {
        "colab": {
          "base_uri": "https://localhost:8080/",
          "height": 330
        },
        "outputId": "ba99b48d-5e6d-4854-83cd-bffeb0cc17b5",
        "id": "DTGWssuM68kA"
      },
      "execution_count": null,
      "outputs": [
        {
          "output_type": "stream",
          "name": "stdout",
          "text": [
            "8/8 [==============================] - 0s 2ms/step\n"
          ]
        },
        {
          "output_type": "display_data",
          "data": {
            "text/plain": [
              "<Figure size 432x288 with 1 Axes>"
            ],
            "image/png": "[encoded data removed]"
          },
          "metadata": {
            "needs_background": "light"
          }
        },
        {
          "output_type": "stream",
          "name": "stdout",
          "text": [
            "The root mean squared error is 1.5711506059423939.\n"
          ]
        }
      ]
    },
    {
      "cell_type": "code",
      "source": [
        "modelFinal4 = Sequential([\n",
        "        Dense(units=64, input_shape=(60,),activation='relu'),\n",
        "        Dense(units=8,activation='relu'),\n",
        "        Dense(units=1,activation='linear')\n",
        "    ])\n",
        "\n",
        "modelFinal4.compile(optimizer='adam',\n",
        "            loss='mean_squared_error')"
      ],
      "metadata": {
        "id": "Q78n--nsSymo"
      },
      "execution_count": null,
      "outputs": []
    },
    {
      "cell_type": "code",
      "source": [
        "es = EarlyStopping(monitor='loss', verbose=1, patience=200)\n",
        "\n",
        "modelFinal4.fit(x_train, y_train, epochs=5000,verbose=0, callbacks=[es])"
      ],
      "metadata": {
        "colab": {
          "base_uri": "https://localhost:8080/"
        },
        "outputId": "6f21de8b-a836-4955-b1d4-f7f16ca5df39",
        "id": "mAdod9RqSymo"
      },
      "execution_count": null,
      "outputs": [
        {
          "output_type": "stream",
          "name": "stdout",
          "text": [
            "Epoch 1675: early stopping\n"
          ]
        },
        {
          "output_type": "execute_result",
          "data": {
            "text/plain": [
              "<keras.callbacks.History at 0x7f85b15d1cd0>"
            ]
          },
          "metadata": {},
          "execution_count": 27
        }
      ]
    },
    {
      "cell_type": "code",
      "source": [
        "y_pred = modelFinal4.predict(X_test)\n",
        "y_pred = sc.inverse_transform(y_pred)\n",
        "rmse = math.sqrt(mean_squared_error(test, y_pred))\n",
        "print(\"The root mean squared error is {}.\".format(rmse))"
      ],
      "metadata": {
        "colab": {
          "base_uri": "https://localhost:8080/"
        },
        "outputId": "a70cbc5c-18a8-40bf-9f1b-a583285bdbfb",
        "id": "I8zU0mSUSymo"
      },
      "execution_count": null,
      "outputs": [
        {
          "output_type": "stream",
          "name": "stdout",
          "text": [
            "8/8 [==============================] - 0s 5ms/step\n",
            "The root mean squared error is 1.696930472455559.\n"
          ]
        }
      ]
    },
    {
      "cell_type": "markdown",
      "source": [
        "#load\n",
        "saving the model with the code:"
      ],
      "metadata": {
        "id": "bEXEkv91-sCR"
      }
    },
    {
      "cell_type": "code",
      "source": [
        "# serialize model to JSON\n",
        "model_json = modelFinal3.to_json()\n",
        "with open(\"model.json\", \"w\") as json_file:\n",
        "    json_file.write(model_json)\n",
        "# serialize weights to HDF5\n",
        "modelFinal3.save_weights(\"model.h5\")\n",
        "print(\"Saved model to disk\")"
      ],
      "metadata": {
        "colab": {
          "base_uri": "https://localhost:8080/"
        },
        "id": "7E2XypfpRhgq",
        "outputId": "f29e4bff-af71-478e-84ec-f34d504b1a00"
      },
      "execution_count": null,
      "outputs": [
        {
          "output_type": "stream",
          "name": "stdout",
          "text": [
            "Saved model to disk\n"
          ]
        }
      ]
    },
    {
      "cell_type": "code",
      "source": [
        "from tensorflow.keras.models import Sequential, model_from_json"
      ],
      "metadata": {
        "id": "Hi09FvLpEYZk"
      },
      "execution_count": null,
      "outputs": []
    },
    {
      "cell_type": "markdown",
      "source": [
        "Load the model"
      ],
      "metadata": {
        "id": "GaKbWlPR95O6"
      }
    },
    {
      "cell_type": "code",
      "source": [
        "# load json and create model\n",
        "json_file = open('modelFinal.json', 'r')\n",
        "loaded_model_json = json_file.read()\n",
        "json_file.close()\n",
        "loaded_model = model_from_json(loaded_model_json)\n",
        "# load weights into new model\n",
        "loaded_model.load_weights(\"modelFinal.h5\")\n",
        "print(\"Loaded model from disk\")"
      ],
      "metadata": {
        "id": "tkEGtdfAbH7-",
        "colab": {
          "base_uri": "https://localhost:8080/"
        },
        "outputId": "06d561a2-cc62-49ea-caeb-45421354c11d"
      },
      "execution_count": null,
      "outputs": [
        {
          "output_type": "stream",
          "name": "stdout",
          "text": [
            "Loaded model from disk\n"
          ]
        }
      ]
    },
    {
      "cell_type": "markdown",
      "source": [
        "How the model looks like"
      ],
      "metadata": {
        "id": "0OmppjAPYvHh"
      }
    },
    {
      "cell_type": "code",
      "source": [
        "tf.keras.utils.plot_model(loaded_model, show_shapes= True)"
      ],
      "metadata": {
        "colab": {
          "base_uri": "https://localhost:8080/",
          "height": 422
        },
        "id": "Adq_ZCPuYPSa",
        "outputId": "6f855901-8766-4804-8f54-19a8905e87bc"
      },
      "execution_count": null,
      "outputs": [
        {
          "output_type": "execute_result",
          "data": {
            "image/png": "[encoded data removed]",
            "text/plain": [
              "<IPython.core.display.Image object>"
            ]
          },
          "metadata": {},
          "execution_count": 25
        }
      ]
    },
    {
      "cell_type": "markdown",
      "source": [
        "#final testing\n",
        "so here we'll use the model we approved to try to predict 2018 IBM stocks"
      ],
      "metadata": {
        "id": "UxiRMqYS-vWw"
      }
    },
    {
      "cell_type": "code",
      "source": [
        "import yfinance as yf"
      ],
      "metadata": {
        "id": "6K22B-AC6exc"
      },
      "execution_count": null,
      "outputs": []
    },
    {
      "cell_type": "code",
      "source": [
        "data2 = yf.download('IBM', start='2018-01-01', end='2019-01-01')\n",
        "print(data2.shape)\n",
        "data2"
      ],
      "metadata": {
        "colab": {
          "base_uri": "https://localhost:8080/",
          "height": 490
        },
        "id": "Ri7Iv4Cs6mmD",
        "outputId": "52f4c938-75b4-45a1-db68-34dfbccc687b"
      },
      "execution_count": null,
      "outputs": [
        {
          "output_type": "stream",
          "name": "stdout",
          "text": [
            "\r[*********************100%***********************]  1 of 1 completed\n",
            "(251, 6)\n"
          ]
        },
        {
          "output_type": "execute_result",
          "data": {
            "text/plain": [
              "                  Open        High         Low       Close   Adj Close  \\\n",
              "Date                                                                     \n",
              "2018-01-02  147.705551  148.001907  146.787766  147.466537  116.036690   \n",
              "2018-01-03  150.420654  152.782028  149.455063  151.520081  119.226318   \n",
              "2018-01-04  152.629059  155.181641  152.361374  154.588913  121.641090   \n",
              "2018-01-05  155.296371  155.736145  154.015289  155.344162  122.235382   \n",
              "2018-01-08  155.506699  156.701721  154.588913  156.281067  122.972618   \n",
              "...                ...         ...         ...         ...         ...   \n",
              "2018-12-24  105.066925  106.118546  102.772469  102.839386   84.581276   \n",
              "2018-12-26  103.250481  106.491394  101.281075  106.491394   87.584900   \n",
              "2018-12-27  105.152962  108.776291  104.655830  108.776291   89.464134   \n",
              "2018-12-28  109.196938  109.751434  107.552582  108.059273   88.874413   \n",
              "2018-12-31  108.346077  109.321220  107.476097  108.671127   89.377647   \n",
              "\n",
              "             Volume  \n",
              "Date                 \n",
              "2018-01-02  4395815  \n",
              "2018-01-03  9875914  \n",
              "2018-01-04  7903785  \n",
              "2018-01-05  5434807  \n",
              "2018-01-08  5478425  \n",
              "...             ...  \n",
              "2018-12-24  3997184  \n",
              "2018-12-26  6951507  \n",
              "2018-12-27  6323698  \n",
              "2018-12-28  5352905  \n",
              "2018-12-31  5212009  \n",
              "\n",
              "[251 rows x 6 columns]"
            ],
            "text/html": [
              "\n",
              "  <div id=\"df-5bf18d78-cc59-42b6-9618-9d70eaf1668a\">\n",
              "    <div class=\"colab-df-container\">\n",
              "      <div>\n",
              "<style scoped>\n",
              "    .dataframe tbody tr th:only-of-type {\n",
              "        vertical-align: middle;\n",
              "    }\n",
              "\n",
              "    .dataframe tbody tr th {\n",
              "        vertical-align: top;\n",
              "    }\n",
              "\n",
              "    .dataframe thead th {\n",
              "        text-align: right;\n",
              "    }\n",
              "</style>\n",
              "<table border=\"1\" class=\"dataframe\">\n",
              "  <thead>\n",
              "    <tr style=\"text-align: right;\">\n",
              "      <th></th>\n",
              "      <th>Open</th>\n",
              "      <th>High</th>\n",
              "      <th>Low</th>\n",
              "      <th>Close</th>\n",
              "      <th>Adj Close</th>\n",
              "      <th>Volume</th>\n",
              "    </tr>\n",
              "    <tr>\n",
              "      <th>Date</th>\n",
              "      <th></th>\n",
              "      <th></th>\n",
              "      <th></th>\n",
              "      <th></th>\n",
              "      <th></th>\n",
              "      <th></th>\n",
              "    </tr>\n",
              "  </thead>\n",
              "  <tbody>\n",
              "    <tr>\n",
              "      <th>2018-01-02</th>\n",
              "      <td>147.705551</td>\n",
              "      <td>148.001907</td>\n",
              "      <td>146.787766</td>\n",
              "      <td>147.466537</td>\n",
              "      <td>116.036690</td>\n",
              "      <td>4395815</td>\n",
              "    </tr>\n",
              "    <tr>\n",
              "      <th>2018-01-03</th>\n",
              "      <td>150.420654</td>\n",
              "      <td>152.782028</td>\n",
              "      <td>149.455063</td>\n",
              "      <td>151.520081</td>\n",
              "      <td>119.226318</td>\n",
              "      <td>9875914</td>\n",
              "    </tr>\n",
              "    <tr>\n",
              "      <th>2018-01-04</th>\n",
              "      <td>152.629059</td>\n",
              "      <td>155.181641</td>\n",
              "      <td>152.361374</td>\n",
              "      <td>154.588913</td>\n",
              "      <td>121.641090</td>\n",
              "      <td>7903785</td>\n",
              "    </tr>\n",
              "    <tr>\n",
              "      <th>2018-01-05</th>\n",
              "      <td>155.296371</td>\n",
              "      <td>155.736145</td>\n",
              "      <td>154.015289</td>\n",
              "      <td>155.344162</td>\n",
              "      <td>122.235382</td>\n",
              "      <td>5434807</td>\n",
              "    </tr>\n",
              "    <tr>\n",
              "      <th>2018-01-08</th>\n",
              "      <td>155.506699</td>\n",
              "      <td>156.701721</td>\n",
              "      <td>154.588913</td>\n",
              "      <td>156.281067</td>\n",
              "      <td>122.972618</td>\n",
              "      <td>5478425</td>\n",
              "    </tr>\n",
              "    <tr>\n",
              "      <th>...</th>\n",
              "      <td>...</td>\n",
              "      <td>...</td>\n",
              "      <td>...</td>\n",
              "      <td>...</td>\n",
              "      <td>...</td>\n",
              "      <td>...</td>\n",
              "    </tr>\n",
              "    <tr>\n",
              "      <th>2018-12-24</th>\n",
              "      <td>105.066925</td>\n",
              "      <td>106.118546</td>\n",
              "      <td>102.772469</td>\n",
              "      <td>102.839386</td>\n",
              "      <td>84.581276</td>\n",
              "      <td>3997184</td>\n",
              "    </tr>\n",
              "    <tr>\n",
              "      <th>2018-12-26</th>\n",
              "      <td>103.250481</td>\n",
              "      <td>106.491394</td>\n",
              "      <td>101.281075</td>\n",
              "      <td>106.491394</td>\n",
              "      <td>87.584900</td>\n",
              "      <td>6951507</td>\n",
              "    </tr>\n",
              "    <tr>\n",
              "      <th>2018-12-27</th>\n",
              "      <td>105.152962</td>\n",
              "      <td>108.776291</td>\n",
              "      <td>104.655830</td>\n",
              "      <td>108.776291</td>\n",
              "      <td>89.464134</td>\n",
              "      <td>6323698</td>\n",
              "    </tr>\n",
              "    <tr>\n",
              "      <th>2018-12-28</th>\n",
              "      <td>109.196938</td>\n",
              "      <td>109.751434</td>\n",
              "      <td>107.552582</td>\n",
              "      <td>108.059273</td>\n",
              "      <td>88.874413</td>\n",
              "      <td>5352905</td>\n",
              "    </tr>\n",
              "    <tr>\n",
              "      <th>2018-12-31</th>\n",
              "      <td>108.346077</td>\n",
              "      <td>109.321220</td>\n",
              "      <td>107.476097</td>\n",
              "      <td>108.671127</td>\n",
              "      <td>89.377647</td>\n",
              "      <td>5212009</td>\n",
              "    </tr>\n",
              "  </tbody>\n",
              "</table>\n",
              "<p>251 rows × 6 columns</p>\n",
              "</div>\n",
              "      <button class=\"colab-df-convert\" onclick=\"convertToInteractive('df-5bf18d78-cc59-42b6-9618-9d70eaf1668a')\"\n",
              "              title=\"Convert this dataframe to an interactive table.\"\n",
              "              style=\"display:none;\">\n",
              "        \n",
              "  <svg xmlns=\"http://www.w3.org/2000/svg\" height=\"24px\"viewBox=\"0 0 24 24\"\n",
              "       width=\"24px\">\n",
              "    <path d=\"M0 0h24v24H0V0z\" fill=\"none\"/>\n",
              "    <path d=\"M18.56 5.44l.94 2.06.94-2.06 2.06-.94-2.06-.94-.94-2.06-.94 2.06-2.06.94zm-11 1L8.5 8.5l.94-2.06 2.06-.94-2.06-.94L8.5 2.5l-.94 2.06-2.06.94zm10 10l.94 2.06.94-2.06 2.06-.94-2.06-.94-.94-2.06-.94 2.06-2.06.94z\"/><path d=\"M17.41 7.96l-1.37-1.37c-.4-.4-.92-.59-1.43-.59-.52 0-1.04.2-1.43.59L10.3 9.45l-7.72 7.72c-.78.78-.78 2.05 0 2.83L4 21.41c.39.39.9.59 1.41.59.51 0 1.02-.2 1.41-.59l7.78-7.78 2.81-2.81c.8-.78.8-2.07 0-2.86zM5.41 20L4 18.59l7.72-7.72 1.47 1.35L5.41 20z\"/>\n",
              "  </svg>\n",
              "      </button>\n",
              "      \n",
              "  <style>\n",
              "    .colab-df-container {\n",
              "      display:flex;\n",
              "      flex-wrap:wrap;\n",
              "      gap: 12px;\n",
              "    }\n",
              "\n",
              "    .colab-df-convert {\n",
              "      background-color: #E8F0FE;\n",
              "      border: none;\n",
              "      border-radius: 50%;\n",
              "      cursor: pointer;\n",
              "      display: none;\n",
              "      fill: #1967D2;\n",
              "      height: 32px;\n",
              "      padding: 0 0 0 0;\n",
              "      width: 32px;\n",
              "    }\n",
              "\n",
              "    .colab-df-convert:hover {\n",
              "      background-color: #E2EBFA;\n",
              "      box-shadow: 0px 1px 2px rgba(60, 64, 67, 0.3), 0px 1px 3px 1px rgba(60, 64, 67, 0.15);\n",
              "      fill: #174EA6;\n",
              "    }\n",
              "\n",
              "    [theme=dark] .colab-df-convert {\n",
              "      background-color: #3B4455;\n",
              "      fill: #D2E3FC;\n",
              "    }\n",
              "\n",
              "    [theme=dark] .colab-df-convert:hover {\n",
              "      background-color: #434B5C;\n",
              "      box-shadow: 0px 1px 3px 1px rgba(0, 0, 0, 0.15);\n",
              "      filter: drop-shadow(0px 1px 2px rgba(0, 0, 0, 0.3));\n",
              "      fill: #FFFFFF;\n",
              "    }\n",
              "  </style>\n",
              "\n",
              "      <script>\n",
              "        const buttonEl =\n",
              "          document.querySelector('#df-5bf18d78-cc59-42b6-9618-9d70eaf1668a button.colab-df-convert');\n",
              "        buttonEl.style.display =\n",
              "          google.colab.kernel.accessAllowed ? 'block' : 'none';\n",
              "\n",
              "        async function convertToInteractive(key) {\n",
              "          const element = document.querySelector('#df-5bf18d78-cc59-42b6-9618-9d70eaf1668a');\n",
              "          const dataTable =\n",
              "            await google.colab.kernel.invokeFunction('convertToInteractive',\n",
              "                                                     [key], {});\n",
              "          if (!dataTable) return;\n",
              "\n",
              "          const docLinkHtml = 'Like what you see? Visit the ' +\n",
              "            '<a target=\"_blank\" href=https://colab.research.google.com/notebooks/data_table.ipynb>data table notebook</a>'\n",
              "            + ' to learn more about interactive tables.';\n",
              "          element.innerHTML = '';\n",
              "          dataTable['output_type'] = 'display_data';\n",
              "          await google.colab.output.renderOutput(dataTable, element);\n",
              "          const docLink = document.createElement('div');\n",
              "          docLink.innerHTML = docLinkHtml;\n",
              "          element.appendChild(docLink);\n",
              "        }\n",
              "      </script>\n",
              "    </div>\n",
              "  </div>\n",
              "  "
            ]
          },
          "metadata": {},
          "execution_count": 28
        }
      ]
    },
    {
      "cell_type": "code",
      "source": [
        "data2[\"High\"].plot(figsize=(16,4),legend=True)"
      ],
      "metadata": {
        "colab": {
          "base_uri": "https://localhost:8080/",
          "height": 294
        },
        "id": "KsVX_uDZ-M1a",
        "outputId": "4c70922c-6d56-429c-d708-180f224da6cf"
      },
      "execution_count": null,
      "outputs": [
        {
          "output_type": "execute_result",
          "data": {
            "text/plain": [
              "<matplotlib.axes._subplots.AxesSubplot at 0x7f0c376cd7d0>"
            ]
          },
          "metadata": {},
          "execution_count": 29
        },
        {
          "output_type": "display_data",
          "data": {
            "text/plain": [
              "<Figure size 1152x288 with 1 Axes>"
            ],
            "image/png": "[encoded data removed]"
          },
          "metadata": {
            "needs_background": "light"
          }
        }
      ]
    },
    {
      "cell_type": "code",
      "source": [
        "test2 = data2.iloc[:,1:2].values"
      ],
      "metadata": {
        "id": "h1aESAdj-d6q"
      },
      "execution_count": null,
      "outputs": []
    },
    {
      "cell_type": "code",
      "source": [
        "data_total2 = pd.concat((data[\"High\"][:'2017'],data2[\"High\"]),axis=0)\n",
        "inputs = data_total2[len(data_total2)-len(test) - 60:].values\n",
        "inputs = inputs.reshape(-1,1)\n",
        "inputs  = sc.transform(inputs)"
      ],
      "metadata": {
        "id": "anTlugZ2-mS7"
      },
      "execution_count": null,
      "outputs": []
    },
    {
      "cell_type": "code",
      "source": [
        "len(test2)+60"
      ],
      "metadata": {
        "colab": {
          "base_uri": "https://localhost:8080/"
        },
        "id": "svxYWITRBqka",
        "outputId": "e01cdef3-b129-474c-86ab-4c3d63b9e1b1"
      },
      "execution_count": null,
      "outputs": [
        {
          "output_type": "execute_result",
          "data": {
            "text/plain": [
              "311"
            ]
          },
          "metadata": {},
          "execution_count": 32
        }
      ]
    },
    {
      "cell_type": "code",
      "source": [
        "X_test2 = []\n",
        "for i in range(60,311):\n",
        "    X_test2.append(inputs[i-60:i,0])\n",
        "X_test2 = np.array(X_test2)\n",
        "X_test2 = np.reshape(X_test2, (X_test2.shape[0],X_test2.shape[1],1))"
      ],
      "metadata": {
        "id": "FkR-QkOL-wq6"
      },
      "execution_count": null,
      "outputs": []
    },
    {
      "cell_type": "code",
      "source": [
        "y_pred = loaded_model.predict(X_test2)\n",
        "y_pred = sc.inverse_transform(y_pred)\n",
        "plt.plot(test2, color='red',label='Real IBM Stock Price')\n",
        "plt.plot(y_pred, color='blue',label='Predicted IBM Stock Price')\n",
        "plt.title('IBM Stock Price Prediction')\n",
        "plt.xlabel('Time')\n",
        "plt.ylabel('IBM Stock Price')\n",
        "plt.legend()  \n",
        "plt.show()\n",
        "rmse = math.sqrt(mean_squared_error(test2, y_pred))\n",
        "print(\"The root mean squared error is {}.\".format(rmse))"
      ],
      "metadata": {
        "colab": {
          "base_uri": "https://localhost:8080/",
          "height": 330
        },
        "id": "ZBYeNZS_AWNq",
        "outputId": "c1b5c000-8595-43bd-f457-f1186badd4ce"
      },
      "execution_count": null,
      "outputs": [
        {
          "output_type": "stream",
          "name": "stdout",
          "text": [
            "8/8 [==============================] - 0s 3ms/step\n"
          ]
        },
        {
          "output_type": "display_data",
          "data": {
            "text/plain": [
              "<Figure size 432x288 with 1 Axes>"
            ],
            "image/png": "[encoded data removed]"
          },
          "metadata": {
            "needs_background": "light"
          }
        },
        {
          "output_type": "stream",
          "name": "stdout",
          "text": [
            "The root mean squared error is 1.9641664045004243.\n"
          ]
        }
      ]
    },
    {
      "cell_type": "markdown",
      "source": [
        "#Trying The LSTM layers\n",
        "User SIDDHARTH YADAV used LSTM layers so here we will try his neural network with early stopping.\n",
        "https://www.kaggle.com/code/thebrownviking20/intro-to-recurrent-neural-networks-lstm-gru/notebook"
      ],
      "metadata": {
        "id": "iUqNWTUEUPhl"
      }
    },
    {
      "cell_type": "code",
      "source": [
        "from keras.layers import LSTM, Dropout"
      ],
      "metadata": {
        "id": "2CH8bGh4VShb"
      },
      "execution_count": null,
      "outputs": []
    },
    {
      "cell_type": "code",
      "source": [
        "# The LSTM architecture\n",
        "regressor = Sequential()\n",
        "# First LSTM layer with Dropout regularisation\n",
        "regressor.add(LSTM(units=50, return_sequences=True, input_shape=(x_train.shape[1],1)))\n",
        "regressor.add(Dropout(0.2))\n",
        "# Second LSTM layer\n",
        "regressor.add(LSTM(units=50, return_sequences=True))\n",
        "regressor.add(Dropout(0.2))\n",
        "# Third LSTM layer\n",
        "regressor.add(LSTM(units=50, return_sequences=True))\n",
        "regressor.add(Dropout(0.2))\n",
        "# Fourth LSTM layer\n",
        "regressor.add(LSTM(units=50))\n",
        "regressor.add(Dropout(0.2))\n",
        "# The output layer\n",
        "regressor.add(Dense(units=1))\n",
        "\n",
        "es = EarlyStopping(monitor='loss', verbose=1, patience=25)\n",
        "\n",
        "# Compiling the RNN\n",
        "regressor.compile(optimizer='rmsprop',loss='mean_squared_error')\n",
        "# Fitting to the training set\n",
        "regressor.fit(x_train,y_train,epochs=1000,batch_size=32, callbacks=[es])"
      ],
      "metadata": {
        "id": "qQVLuexNe1gJ",
        "colab": {
          "base_uri": "https://localhost:8080/"
        },
        "outputId": "9392f684-f222-4dea-ffa5-f417dd979534"
      },
      "execution_count": null,
      "outputs": [
        {
          "output_type": "stream",
          "name": "stdout",
          "text": [
            "Epoch 1/1000\n",
            "85/85 [==============================] - 23s 125ms/step - loss: 0.0209\n",
            "Epoch 2/1000\n",
            "85/85 [==============================] - 10s 122ms/step - loss: 0.0106\n",
            "Epoch 3/1000\n",
            "85/85 [==============================] - 10s 122ms/step - loss: 0.0088\n",
            "Epoch 4/1000\n",
            "85/85 [==============================] - 10s 122ms/step - loss: 0.0072\n",
            "Epoch 5/1000\n",
            "85/85 [==============================] - 10s 122ms/step - loss: 0.0064\n",
            "Epoch 6/1000\n",
            "85/85 [==============================] - 10s 122ms/step - loss: 0.0054\n",
            "Epoch 7/1000\n",
            "85/85 [==============================] - 12s 142ms/step - loss: 0.0048\n",
            "Epoch 8/1000\n",
            "85/85 [==============================] - 10s 123ms/step - loss: 0.0045\n",
            "Epoch 9/1000\n",
            "85/85 [==============================] - 11s 128ms/step - loss: 0.0043\n",
            "Epoch 10/1000\n",
            "85/85 [==============================] - 10s 122ms/step - loss: 0.0042\n",
            "Epoch 11/1000\n",
            "85/85 [==============================] - 10s 122ms/step - loss: 0.0038\n",
            "Epoch 12/1000\n",
            "85/85 [==============================] - 10s 122ms/step - loss: 0.0035\n",
            "Epoch 13/1000\n",
            "85/85 [==============================] - 10s 123ms/step - loss: 0.0033\n",
            "Epoch 14/1000\n",
            "85/85 [==============================] - 12s 143ms/step - loss: 0.0032\n",
            "Epoch 15/1000\n",
            "85/85 [==============================] - 10s 120ms/step - loss: 0.0031\n",
            "Epoch 16/1000\n",
            "85/85 [==============================] - 10s 122ms/step - loss: 0.0031\n",
            "Epoch 17/1000\n",
            "85/85 [==============================] - 10s 121ms/step - loss: 0.0030\n",
            "Epoch 18/1000\n",
            "85/85 [==============================] - 10s 122ms/step - loss: 0.0028\n",
            "Epoch 19/1000\n",
            "85/85 [==============================] - 11s 126ms/step - loss: 0.0027\n",
            "Epoch 20/1000\n",
            "85/85 [==============================] - 10s 122ms/step - loss: 0.0028\n",
            "Epoch 21/1000\n",
            "85/85 [==============================] - 10s 121ms/step - loss: 0.0025\n",
            "Epoch 22/1000\n",
            "85/85 [==============================] - 10s 121ms/step - loss: 0.0025\n",
            "Epoch 23/1000\n",
            "85/85 [==============================] - 10s 121ms/step - loss: 0.0022\n",
            "Epoch 24/1000\n",
            "85/85 [==============================] - 10s 121ms/step - loss: 0.0023\n",
            "Epoch 25/1000\n",
            "85/85 [==============================] - 11s 125ms/step - loss: 0.0023\n",
            "Epoch 26/1000\n",
            "85/85 [==============================] - 11s 124ms/step - loss: 0.0021\n",
            "Epoch 27/1000\n",
            "85/85 [==============================] - 11s 130ms/step - loss: 0.0022\n",
            "Epoch 28/1000\n",
            "85/85 [==============================] - 12s 140ms/step - loss: 0.0020\n",
            "Epoch 29/1000\n",
            "85/85 [==============================] - 11s 124ms/step - loss: 0.0020\n",
            "Epoch 30/1000\n",
            "85/85 [==============================] - 11s 126ms/step - loss: 0.0020\n",
            "Epoch 31/1000\n",
            "85/85 [==============================] - 11s 125ms/step - loss: 0.0019\n",
            "Epoch 32/1000\n",
            "85/85 [==============================] - 11s 124ms/step - loss: 0.0019\n",
            "Epoch 33/1000\n",
            "85/85 [==============================] - 11s 126ms/step - loss: 0.0020\n",
            "Epoch 34/1000\n",
            "85/85 [==============================] - 10s 123ms/step - loss: 0.0018\n",
            "Epoch 35/1000\n",
            "85/85 [==============================] - 12s 140ms/step - loss: 0.0017\n",
            "Epoch 36/1000\n",
            "85/85 [==============================] - 10s 122ms/step - loss: 0.0017\n",
            "Epoch 37/1000\n",
            "85/85 [==============================] - 10s 122ms/step - loss: 0.0018\n",
            "Epoch 38/1000\n",
            "85/85 [==============================] - 10s 122ms/step - loss: 0.0017\n",
            "Epoch 39/1000\n",
            "85/85 [==============================] - 11s 127ms/step - loss: 0.0017\n",
            "Epoch 40/1000\n",
            "85/85 [==============================] - 10s 122ms/step - loss: 0.0017\n",
            "Epoch 41/1000\n",
            "85/85 [==============================] - 11s 124ms/step - loss: 0.0015\n",
            "Epoch 42/1000\n",
            "85/85 [==============================] - 11s 128ms/step - loss: 0.0015\n",
            "Epoch 43/1000\n",
            "85/85 [==============================] - 10s 123ms/step - loss: 0.0015\n",
            "Epoch 44/1000\n",
            "85/85 [==============================] - 11s 126ms/step - loss: 0.0016\n",
            "Epoch 45/1000\n",
            "85/85 [==============================] - 10s 123ms/step - loss: 0.0015\n",
            "Epoch 46/1000\n",
            "85/85 [==============================] - 10s 121ms/step - loss: 0.0015\n",
            "Epoch 47/1000\n",
            "85/85 [==============================] - 10s 123ms/step - loss: 0.0014\n",
            "Epoch 48/1000\n",
            "85/85 [==============================] - 12s 144ms/step - loss: 0.0014\n",
            "Epoch 49/1000\n",
            "85/85 [==============================] - 10s 121ms/step - loss: 0.0014\n",
            "Epoch 50/1000\n",
            "85/85 [==============================] - 10s 123ms/step - loss: 0.0014\n",
            "Epoch 51/1000\n",
            "85/85 [==============================] - 10s 121ms/step - loss: 0.0014\n",
            "Epoch 52/1000\n",
            "85/85 [==============================] - 10s 121ms/step - loss: 0.0014\n",
            "Epoch 53/1000\n",
            "85/85 [==============================] - 10s 122ms/step - loss: 0.0014\n",
            "Epoch 54/1000\n",
            "85/85 [==============================] - 11s 123ms/step - loss: 0.0014\n",
            "Epoch 55/1000\n",
            "85/85 [==============================] - 12s 147ms/step - loss: 0.0014\n",
            "Epoch 56/1000\n",
            "85/85 [==============================] - 11s 125ms/step - loss: 0.0014\n",
            "Epoch 57/1000\n",
            "85/85 [==============================] - 11s 125ms/step - loss: 0.0013\n",
            "Epoch 58/1000\n",
            "85/85 [==============================] - 11s 134ms/step - loss: 0.0014\n",
            "Epoch 59/1000\n",
            "85/85 [==============================] - 11s 125ms/step - loss: 0.0013\n",
            "Epoch 60/1000\n",
            "85/85 [==============================] - 10s 123ms/step - loss: 0.0012\n",
            "Epoch 61/1000\n",
            "85/85 [==============================] - 11s 124ms/step - loss: 0.0012\n",
            "Epoch 62/1000\n",
            "85/85 [==============================] - 10s 123ms/step - loss: 0.0014\n",
            "Epoch 63/1000\n",
            "85/85 [==============================] - 10s 121ms/step - loss: 0.0013\n",
            "Epoch 64/1000\n",
            "85/85 [==============================] - 10s 121ms/step - loss: 0.0012\n",
            "Epoch 65/1000\n",
            "85/85 [==============================] - 10s 121ms/step - loss: 0.0012\n",
            "Epoch 66/1000\n",
            "85/85 [==============================] - 10s 120ms/step - loss: 0.0012\n",
            "Epoch 67/1000\n",
            "85/85 [==============================] - 10s 122ms/step - loss: 0.0013\n",
            "Epoch 68/1000\n",
            "85/85 [==============================] - 11s 133ms/step - loss: 0.0012\n",
            "Epoch 69/1000\n",
            "85/85 [==============================] - 11s 130ms/step - loss: 0.0012\n",
            "Epoch 70/1000\n",
            "85/85 [==============================] - 10s 122ms/step - loss: 0.0012\n",
            "Epoch 71/1000\n",
            "85/85 [==============================] - 10s 121ms/step - loss: 0.0012\n",
            "Epoch 72/1000\n",
            "85/85 [==============================] - 10s 122ms/step - loss: 0.0012\n",
            "Epoch 73/1000\n",
            "85/85 [==============================] - 10s 122ms/step - loss: 0.0011\n",
            "Epoch 74/1000\n",
            "85/85 [==============================] - 10s 121ms/step - loss: 0.0012\n",
            "Epoch 75/1000\n",
            "85/85 [==============================] - 12s 145ms/step - loss: 0.0012\n",
            "Epoch 76/1000\n",
            "85/85 [==============================] - 11s 124ms/step - loss: 0.0011\n",
            "Epoch 77/1000\n",
            "85/85 [==============================] - 11s 126ms/step - loss: 0.0011\n",
            "Epoch 78/1000\n",
            "85/85 [==============================] - 11s 123ms/step - loss: 0.0011\n",
            "Epoch 79/1000\n",
            "85/85 [==============================] - 10s 122ms/step - loss: 0.0011\n",
            "Epoch 80/1000\n",
            "85/85 [==============================] - 11s 124ms/step - loss: 0.0011\n",
            "Epoch 81/1000\n",
            "85/85 [==============================] - 10s 123ms/step - loss: 0.0012\n",
            "Epoch 82/1000\n",
            "85/85 [==============================] - 10s 123ms/step - loss: 0.0010\n",
            "Epoch 83/1000\n",
            "85/85 [==============================] - 11s 124ms/step - loss: 0.0011\n",
            "Epoch 84/1000\n",
            "85/85 [==============================] - 11s 127ms/step - loss: 0.0010\n",
            "Epoch 85/1000\n",
            "85/85 [==============================] - 11s 125ms/step - loss: 0.0011\n",
            "Epoch 86/1000\n",
            "85/85 [==============================] - 11s 129ms/step - loss: 0.0010\n",
            "Epoch 87/1000\n",
            "85/85 [==============================] - 11s 129ms/step - loss: 0.0011\n",
            "Epoch 88/1000\n",
            "85/85 [==============================] - 11s 124ms/step - loss: 0.0010\n",
            "Epoch 89/1000\n",
            "85/85 [==============================] - 12s 145ms/step - loss: 0.0011\n",
            "Epoch 90/1000\n",
            "85/85 [==============================] - 10s 123ms/step - loss: 0.0010\n",
            "Epoch 91/1000\n",
            "85/85 [==============================] - 10s 121ms/step - loss: 0.0010\n",
            "Epoch 92/1000\n",
            "85/85 [==============================] - 11s 124ms/step - loss: 0.0011\n",
            "Epoch 93/1000\n",
            "85/85 [==============================] - 10s 122ms/step - loss: 0.0011\n",
            "Epoch 94/1000\n",
            "85/85 [==============================] - 10s 122ms/step - loss: 9.7970e-04\n",
            "Epoch 95/1000\n",
            "85/85 [==============================] - 10s 123ms/step - loss: 0.0010\n",
            "Epoch 96/1000\n",
            "85/85 [==============================] - 12s 143ms/step - loss: 0.0011\n",
            "Epoch 97/1000\n",
            "85/85 [==============================] - 10s 122ms/step - loss: 0.0010\n",
            "Epoch 98/1000\n",
            "85/85 [==============================] - 11s 125ms/step - loss: 9.8016e-04\n",
            "Epoch 99/1000\n",
            "85/85 [==============================] - 10s 123ms/step - loss: 0.0010\n",
            "Epoch 100/1000\n",
            "85/85 [==============================] - 11s 124ms/step - loss: 0.0010\n",
            "Epoch 101/1000\n",
            "85/85 [==============================] - 11s 124ms/step - loss: 0.0011\n",
            "Epoch 102/1000\n",
            "85/85 [==============================] - 10s 122ms/step - loss: 9.7567e-04\n",
            "Epoch 103/1000\n",
            "85/85 [==============================] - 10s 122ms/step - loss: 9.5373e-04\n",
            "Epoch 104/1000\n",
            "85/85 [==============================] - 10s 121ms/step - loss: 9.7270e-04\n",
            "Epoch 105/1000\n",
            "85/85 [==============================] - 10s 121ms/step - loss: 0.0010\n",
            "Epoch 106/1000\n",
            "85/85 [==============================] - 10s 123ms/step - loss: 9.6921e-04\n",
            "Epoch 107/1000\n",
            "85/85 [==============================] - 10s 122ms/step - loss: 0.0011\n",
            "Epoch 108/1000\n",
            "85/85 [==============================] - 10s 121ms/step - loss: 0.0010\n",
            "Epoch 109/1000\n",
            "85/85 [==============================] - 11s 126ms/step - loss: 9.8822e-04\n",
            "Epoch 110/1000\n",
            "85/85 [==============================] - 12s 139ms/step - loss: 9.7284e-04\n",
            "Epoch 111/1000\n",
            "85/85 [==============================] - 10s 122ms/step - loss: 9.4343e-04\n",
            "Epoch 112/1000\n",
            "85/85 [==============================] - 11s 128ms/step - loss: 9.7263e-04\n",
            "Epoch 113/1000\n",
            "85/85 [==============================] - 11s 125ms/step - loss: 9.9174e-04\n",
            "Epoch 114/1000\n",
            "85/85 [==============================] - 11s 126ms/step - loss: 9.4994e-04\n",
            "Epoch 115/1000\n",
            "85/85 [==============================] - 12s 140ms/step - loss: 9.2513e-04\n",
            "Epoch 116/1000\n",
            "85/85 [==============================] - 13s 158ms/step - loss: 9.8032e-04\n",
            "Epoch 117/1000\n",
            "85/85 [==============================] - 11s 125ms/step - loss: 0.0010\n",
            "Epoch 118/1000\n",
            "85/85 [==============================] - 10s 122ms/step - loss: 9.2443e-04\n",
            "Epoch 119/1000\n",
            "85/85 [==============================] - 10s 123ms/step - loss: 9.4763e-04\n",
            "Epoch 120/1000\n",
            "85/85 [==============================] - 11s 129ms/step - loss: 9.9003e-04\n",
            "Epoch 121/1000\n",
            "85/85 [==============================] - 11s 125ms/step - loss: 9.3477e-04\n",
            "Epoch 122/1000\n",
            "85/85 [==============================] - 11s 126ms/step - loss: 9.3777e-04\n",
            "Epoch 123/1000\n",
            "85/85 [==============================] - 11s 126ms/step - loss: 9.4054e-04\n",
            "Epoch 124/1000\n",
            "85/85 [==============================] - 11s 125ms/step - loss: 9.8864e-04\n",
            "Epoch 125/1000\n",
            "85/85 [==============================] - 11s 127ms/step - loss: 8.8154e-04\n",
            "Epoch 126/1000\n",
            "85/85 [==============================] - 11s 127ms/step - loss: 9.4168e-04\n",
            "Epoch 127/1000\n",
            "85/85 [==============================] - 11s 126ms/step - loss: 9.4335e-04\n",
            "Epoch 128/1000\n",
            "85/85 [==============================] - 11s 127ms/step - loss: 9.0486e-04\n",
            "Epoch 129/1000\n",
            "85/85 [==============================] - 11s 130ms/step - loss: 9.5228e-04\n",
            "Epoch 130/1000\n",
            "85/85 [==============================] - 11s 134ms/step - loss: 9.5877e-04\n",
            "Epoch 131/1000\n",
            "85/85 [==============================] - 11s 127ms/step - loss: 9.1065e-04\n",
            "Epoch 132/1000\n",
            "85/85 [==============================] - 11s 127ms/step - loss: 9.8142e-04\n",
            "Epoch 133/1000\n",
            "85/85 [==============================] - 11s 125ms/step - loss: 9.0029e-04\n",
            "Epoch 134/1000\n",
            "85/85 [==============================] - 11s 133ms/step - loss: 9.5720e-04\n",
            "Epoch 135/1000\n",
            "85/85 [==============================] - 11s 125ms/step - loss: 8.6516e-04\n",
            "Epoch 136/1000\n",
            "85/85 [==============================] - 13s 148ms/step - loss: 9.2448e-04\n",
            "Epoch 137/1000\n",
            "85/85 [==============================] - 11s 128ms/step - loss: 9.9035e-04\n",
            "Epoch 138/1000\n",
            "85/85 [==============================] - 11s 126ms/step - loss: 9.2959e-04\n",
            "Epoch 139/1000\n",
            "85/85 [==============================] - 11s 131ms/step - loss: 9.3489e-04\n",
            "Epoch 140/1000\n",
            "85/85 [==============================] - 11s 127ms/step - loss: 9.0436e-04\n",
            "Epoch 141/1000\n",
            "85/85 [==============================] - 11s 129ms/step - loss: 9.0000e-04\n",
            "Epoch 142/1000\n",
            "85/85 [==============================] - 12s 135ms/step - loss: 9.1418e-04\n",
            "Epoch 143/1000\n",
            "85/85 [==============================] - 11s 128ms/step - loss: 8.9063e-04\n",
            "Epoch 144/1000\n",
            "85/85 [==============================] - 11s 125ms/step - loss: 8.7496e-04\n",
            "Epoch 145/1000\n",
            "85/85 [==============================] - 11s 125ms/step - loss: 9.3435e-04\n",
            "Epoch 146/1000\n",
            "85/85 [==============================] - 11s 124ms/step - loss: 9.2184e-04\n",
            "Epoch 147/1000\n",
            "85/85 [==============================] - 11s 125ms/step - loss: 9.0128e-04\n",
            "Epoch 148/1000\n",
            "85/85 [==============================] - 11s 126ms/step - loss: 8.8148e-04\n",
            "Epoch 149/1000\n",
            "85/85 [==============================] - 12s 141ms/step - loss: 9.3974e-04\n",
            "Epoch 150/1000\n",
            "85/85 [==============================] - 11s 129ms/step - loss: 8.8142e-04\n",
            "Epoch 151/1000\n",
            "85/85 [==============================] - 11s 126ms/step - loss: 9.2275e-04\n",
            "Epoch 152/1000\n",
            "85/85 [==============================] - 11s 125ms/step - loss: 9.0324e-04\n",
            "Epoch 153/1000\n",
            "85/85 [==============================] - 11s 128ms/step - loss: 8.6211e-04\n",
            "Epoch 154/1000\n",
            "85/85 [==============================] - 11s 128ms/step - loss: 9.1222e-04\n",
            "Epoch 155/1000\n",
            "85/85 [==============================] - 11s 124ms/step - loss: 9.5324e-04\n",
            "Epoch 156/1000\n",
            "85/85 [==============================] - 12s 142ms/step - loss: 8.8489e-04\n",
            "Epoch 157/1000\n",
            "85/85 [==============================] - 11s 124ms/step - loss: 9.4658e-04\n",
            "Epoch 158/1000\n",
            "85/85 [==============================] - 11s 127ms/step - loss: 9.1137e-04\n",
            "Epoch 159/1000\n",
            "85/85 [==============================] - 11s 130ms/step - loss: 8.6744e-04\n",
            "Epoch 160/1000\n",
            "85/85 [==============================] - 11s 128ms/step - loss: 9.0494e-04\n",
            "Epoch 161/1000\n",
            "85/85 [==============================] - 11s 127ms/step - loss: 8.8498e-04\n",
            "Epoch 162/1000\n",
            "85/85 [==============================] - 11s 126ms/step - loss: 8.8813e-04\n",
            "Epoch 163/1000\n",
            "85/85 [==============================] - 11s 124ms/step - loss: 8.6895e-04\n",
            "Epoch 164/1000\n",
            "85/85 [==============================] - 11s 127ms/step - loss: 9.1871e-04\n",
            "Epoch 165/1000\n",
            "85/85 [==============================] - 11s 127ms/step - loss: 8.8371e-04\n",
            "Epoch 166/1000\n",
            "85/85 [==============================] - 11s 127ms/step - loss: 9.1522e-04\n",
            "Epoch 167/1000\n",
            "85/85 [==============================] - 11s 129ms/step - loss: 8.9086e-04\n",
            "Epoch 168/1000\n",
            "85/85 [==============================] - 11s 127ms/step - loss: 9.1788e-04\n",
            "Epoch 169/1000\n",
            "85/85 [==============================] - 12s 147ms/step - loss: 8.0933e-04\n",
            "Epoch 170/1000\n",
            "85/85 [==============================] - 11s 128ms/step - loss: 8.8221e-04\n",
            "Epoch 171/1000\n",
            "85/85 [==============================] - 13s 153ms/step - loss: 9.1962e-04\n",
            "Epoch 172/1000\n",
            "85/85 [==============================] - 11s 129ms/step - loss: 8.8915e-04\n",
            "Epoch 173/1000\n",
            "85/85 [==============================] - 11s 127ms/step - loss: 8.7929e-04\n",
            "Epoch 174/1000\n",
            "85/85 [==============================] - 11s 128ms/step - loss: 8.4013e-04\n",
            "Epoch 175/1000\n",
            "85/85 [==============================] - 11s 127ms/step - loss: 7.9978e-04\n",
            "Epoch 176/1000\n",
            "85/85 [==============================] - 12s 143ms/step - loss: 8.4959e-04\n",
            "Epoch 177/1000\n",
            "85/85 [==============================] - 11s 128ms/step - loss: 8.6542e-04\n",
            "Epoch 178/1000\n",
            "85/85 [==============================] - 11s 126ms/step - loss: 9.0504e-04\n",
            "Epoch 179/1000\n",
            "85/85 [==============================] - 11s 127ms/step - loss: 8.7191e-04\n",
            "Epoch 180/1000\n",
            "85/85 [==============================] - 11s 132ms/step - loss: 9.1053e-04\n",
            "Epoch 181/1000\n",
            "85/85 [==============================] - 11s 129ms/step - loss: 8.5205e-04\n",
            "Epoch 182/1000\n",
            "85/85 [==============================] - 11s 127ms/step - loss: 8.5546e-04\n",
            "Epoch 183/1000\n",
            "85/85 [==============================] - 11s 129ms/step - loss: 8.6857e-04\n",
            "Epoch 184/1000\n",
            "85/85 [==============================] - 11s 126ms/step - loss: 9.0397e-04\n",
            "Epoch 185/1000\n",
            "85/85 [==============================] - 11s 126ms/step - loss: 8.6930e-04\n",
            "Epoch 186/1000\n",
            "85/85 [==============================] - 11s 126ms/step - loss: 8.8393e-04\n",
            "Epoch 187/1000\n",
            "85/85 [==============================] - 11s 126ms/step - loss: 8.7575e-04\n",
            "Epoch 188/1000\n",
            "85/85 [==============================] - 11s 128ms/step - loss: 8.3274e-04\n",
            "Epoch 189/1000\n",
            "85/85 [==============================] - 12s 144ms/step - loss: 8.4216e-04\n",
            "Epoch 190/1000\n",
            "85/85 [==============================] - 11s 127ms/step - loss: 8.8637e-04\n",
            "Epoch 191/1000\n",
            "85/85 [==============================] - 11s 129ms/step - loss: 8.6077e-04\n",
            "Epoch 192/1000\n",
            "85/85 [==============================] - 11s 127ms/step - loss: 8.9426e-04\n",
            "Epoch 193/1000\n",
            "85/85 [==============================] - 11s 129ms/step - loss: 8.4357e-04\n",
            "Epoch 194/1000\n",
            "85/85 [==============================] - 11s 134ms/step - loss: 8.2843e-04\n",
            "Epoch 195/1000\n",
            "85/85 [==============================] - 11s 132ms/step - loss: 8.8953e-04\n",
            "Epoch 196/1000\n",
            "85/85 [==============================] - 12s 147ms/step - loss: 8.3845e-04\n",
            "Epoch 197/1000\n",
            "85/85 [==============================] - 11s 128ms/step - loss: 8.7612e-04\n",
            "Epoch 198/1000\n",
            "85/85 [==============================] - 11s 128ms/step - loss: 8.5319e-04\n",
            "Epoch 199/1000\n",
            "85/85 [==============================] - 11s 129ms/step - loss: 8.8798e-04\n",
            "Epoch 200/1000\n",
            "85/85 [==============================] - 11s 127ms/step - loss: 8.4517e-04\n",
            "Epoch 200: early stopping\n"
          ]
        },
        {
          "output_type": "execute_result",
          "data": {
            "text/plain": [
              "<keras.callbacks.History at 0x7f75ef044ed0>"
            ]
          },
          "metadata": {},
          "execution_count": 26
        }
      ]
    },
    {
      "cell_type": "code",
      "source": [
        "y_pred = regressor.predict(X_test)\n",
        "y_pred = sc.inverse_transform(y_pred)\n",
        "plt.plot(test, color='red',label='Real IBM Stock Price')\n",
        "plt.plot(y_pred, color='blue',label='Predicted IBM Stock Price')\n",
        "plt.title('IBM Stock Price Prediction')\n",
        "plt.xlabel('Time')\n",
        "plt.ylabel('IBM Stock Price')\n",
        "plt.legend()  \n",
        "plt.show()\n",
        "rmse = math.sqrt(mean_squared_error(test, y_pred))\n",
        "print(\"The root mean squared error is {}.\".format(rmse))"
      ],
      "metadata": {
        "colab": {
          "base_uri": "https://localhost:8080/",
          "height": 330
        },
        "id": "Cs4gxOxYVYdn",
        "outputId": "33e1d383-3f8a-4a24-e23c-ee2676730b31"
      },
      "execution_count": null,
      "outputs": [
        {
          "output_type": "stream",
          "name": "stdout",
          "text": [
            "8/8 [==============================] - 0s 57ms/step\n"
          ]
        },
        {
          "output_type": "display_data",
          "data": {
            "text/plain": [
              "<Figure size 432x288 with 1 Axes>"
            ],
            "image/png": "[encoded data removed]"
          },
          "metadata": {
            "needs_background": "light"
          }
        },
        {
          "output_type": "stream",
          "name": "stdout",
          "text": [
            "The root mean squared error is 1.663606802461618.\n"
          ]
        }
      ]
    },
    {
      "cell_type": "code",
      "source": [],
      "metadata": {
        "id": "pKJs6ro4fJqp"
      },
      "execution_count": null,
      "outputs": []
    }
  ]
}